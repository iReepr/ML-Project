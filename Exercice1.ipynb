{
 "cells": [
  {
   "cell_type": "markdown",
   "id": "a0693c13",
   "metadata": {},
   "source": [
    "## Question 1 (M)\n",
    "\n",
    "Propose a supervised learning setting:\n",
    "\n",
    "- input space $\\mathcal{X}$, representing a physical quantity of your choice, with units.\n",
    "- output space $\\mathcal{Y}$, representing a physical quantity of your choice, with units\n",
    "- a random variable (X, Y) with a joint distribution.\n",
    "- a loss function l(x, y)\n",
    "\n",
    "$$\n",
    "l =\n",
    "\\begin{cases}\n",
    "\\mathcal{X} \\times \\mathcal{Y} \\longrightarrow \\mathbb{R_+}\n",
    "\\\\\n",
    "(x,y) \\longrightarrow l(x,y)\n",
    "\\end{cases}\n",
    "$$\n",
    "\n",
    "Compute the Bayes predictor $f^* : \\mathcal{X} \\longrightarrow \\mathcal{Y}$ and the Bayes risk associated with this\n",
    "setting. Remark : you have to use a setting different than the settings seen during\n",
    "the course, in terms of input space X and output space Y. However, you can use any\n",
    "classical loss function l (square loss, \"0-1\" loss, etc)\n",
    "\n",
    "---\n"
   ]
  },
  {
   "cell_type": "markdown",
   "id": "1e52aef9",
   "metadata": {},
   "source": [
    "## Roulette russe : prédire la survie selon le nombre de balles\n",
    "\n",
    "- Entrée: $X \\in \\{1, 2, \\dots, 6\\}$ : nombre de balles dans le barillet (6 chambres)\n",
    "- Sortie: $Y \\in \\{0, 1\\}$ : $Y = 1$ si le joueur **survit**, $Y = 0$ sinon\n",
    "\n",
    "On suppose que:\n",
    "\n",
    "- X suit une loi uniforme ${U}(1, 6)$\n",
    "- Le tir est aléatoire : chaque chambre a la même probabilité d'être tirée\n",
    "\n",
    "La survie dépend du nombre de balles:\n",
    "  \n",
    "\n",
    "$$\n",
    "\\mathbb{P}(Y = 1 \\mid X = x) = 1 - \\frac{x}{6}\n",
    "$$\n",
    "\n",
    "Cela signifie que, conditionnellement à $ X = x $, la variable aléatoire $Y$ suit une loi de Bernoulli :\n",
    "\n",
    "$$\n",
    "Y \\mid X = x \\sim \\mathrm{Bernoulli}\\left(1 - \\frac{x}{6} \\right)\n",
    "$$\n",
    "\n",
    "\n",
    "\n",
    "On utilisera la square loss, donc:\n",
    "\n",
    "\n",
    "### Prédicteur de Bayes\n",
    "\n",
    "Dans le cas de la square loss, le prédicteur de Bayes est l'espérance conditionnelle :\n",
    "\n",
    "$$ f^*(x) = \\mathbb{E}[Y \\mid X = x] = \\mathbb{P}(Y = 1 \\mid X = x) = 1 - \\frac{x}{6} $$\n",
    "\n",
    "\n",
    "### Risque de Bayes\n",
    "\n",
    "\n",
    "\\begin{align*}\n",
    "R(f^*) &= \\mathbb{E}_{(X,Y) \\sim \\rho}[\\ell(Y, f^*(X))] \\\\\n",
    "&= \\mathbb{E}_X \\big[ \\mathbb{E}_Y[(Y - f^*(X))^2 \\mid X] \\big] \\\\\n",
    "&= \\mathbb{E}_X \\big[ \\operatorname{Var}(Y \\mid X) \\big] \\\\\n",
    "&= \\sum_{x=1}^6 \\operatorname{Var}(Y \\mid X=x) \\cdot \\mathbb{P}(X = x) \\\\\n",
    "&= \\sum_{x=1}^6 \\left(1 - \\frac{x}{6}\\right) \\frac{x}{6} \\cdot \\frac{1}{6} \\text{ comme Y∣X suit une loi de Bernoulli}\\\\\n",
    "&= \\frac{1}{6} \\sum_{x=1}^6 \\left(1 - \\frac{x}{6}\\right) \\frac{x}{6} = \\frac{35}{216} \\approx 0.162\n",
    "\\end{align*}\n",
    "\n"
   ]
  },
  {
   "cell_type": "markdown",
   "id": "51115ee0",
   "metadata": {},
   "source": [
    "## Question 2 (C)\n",
    "\n",
    "Propose an estimator  $\\tilde{f} : \\mathcal{X} \\rightarrow \\mathcal{Y}$, different than the Bayes estimator\n",
    "and run a simulation that gives a statistical approximation of its generalization\n",
    "error (risque réel) by computing its empirical risk on a test set. Perform the same\n",
    "simulation also for $f^*$, and verify that the generalization error is smaller for $f^*$ than\n",
    "for $\\tilde{f}$, and that your the test error for $f^*$ is close to the Bayes risk (this should be the\n",
    "case if the number of samples is sufficiently large).\n",
    "\n",
    "---"
   ]
  },
  {
   "cell_type": "code",
   "execution_count": 2,
   "id": "4510508d",
   "metadata": {},
   "outputs": [
    {
     "name": "stdout",
     "output_type": "stream",
     "text": [
      "Risque empirique de f* (prédicteur de Bayes) : 0.1618\n",
      "Risque empirique de f~ (estimateur constant) : 0.2430\n",
      "Risque de Bayes théorique : 0.1620\n"
     ]
    }
   ],
   "source": [
    "import numpy as np\n",
    "\n",
    "n_test = 100000\n",
    "X_values = np.arange(1, 7)\n",
    "\n",
    "# Prédicteur de Bayes\n",
    "def f_star(X):\n",
    "    return 1 - X / 6\n",
    "\n",
    "# Estimateur constant \n",
    "def f_tilde(X):\n",
    "    p_mean = np.mean(1 - X_values / 6) # Probabilité moyenne\n",
    "    return np.full_like(X, p_mean, dtype=float)\n",
    "\n",
    "def loss(y, y_pred):\n",
    "    return (y - y_pred)**2\n",
    "\n",
    "def empirical_risk(f, X_test, Y_test):\n",
    "    preds = f(X_test)\n",
    "    return np.mean(loss(Y_test, preds))\n",
    "\n",
    "X_test = np.random.choice(X_values, size=n_test, replace=True)\n",
    "Y_test = np.random.binomial(1, 1 - X_test / 6)\n",
    "\n",
    "risk_f_star = empirical_risk(f_star, X_test, Y_test)\n",
    "risk_f_tilde = empirical_risk(f_tilde, X_test, Y_test)\n",
    "\n",
    "# Risque de Bayes théorique\n",
    "bayes_risk = np.mean((1 - X_values / 6) * (X_values / 6))\n",
    "\n",
    "print(f\"Risque empirique de f* (prédicteur de Bayes) : {risk_f_star:.4f}\")\n",
    "print(f\"Risque empirique de f~ (estimateur constant) : {risk_f_tilde:.4f}\")\n",
    "print(f\"Risque de Bayes théorique : {bayes_risk:.4f}\")\n"
   ]
  },
  {
   "cell_type": "markdown",
   "id": "997c55e9",
   "metadata": {},
   "source": [
    "Le risque empirique de  $f^*$  est très proche du risque de Bayes théorique 0.1620, ce qui montre que notre simulation est cohérente et bien calibrée.\n",
    "\n",
    "L’estimateur constant $\\tilde{f}$, qui prédit toujours la probabilité moyenne de survie  0.583, obtient un risque empirique plus élevé.\n",
    "\n",
    "Cela confirme que le prédicteur de Bayes s’adapte mieux aux entrées et minimise effectivement l’erreur quadratique.\n"
   ]
  }
 ],
 "metadata": {
  "kernelspec": {
   "display_name": "Python 3",
   "language": "python",
   "name": "python3"
  },
  "language_info": {
   "codemirror_mode": {
    "name": "ipython",
    "version": 3
   },
   "file_extension": ".py",
   "mimetype": "text/x-python",
   "name": "python",
   "nbconvert_exporter": "python",
   "pygments_lexer": "ipython3",
   "version": "3.9.6"
  }
 },
 "nbformat": 4,
 "nbformat_minor": 5
}
