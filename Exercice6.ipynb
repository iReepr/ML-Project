{
 "cells": [
  {
   "cell_type": "markdown",
   "id": "b0e76ac6",
   "metadata": {},
   "source": [
    "# Import"
   ]
  },
  {
   "cell_type": "code",
   "execution_count": 17,
   "id": "fce1652e",
   "metadata": {},
   "outputs": [],
   "source": [
    "import pandas as pd\n",
    "from sklearn.ensemble import RandomForestRegressor\n",
    "from sklearn.linear_model import Ridge\n",
    "from sklearn.model_selection import train_test_split\n",
    "import numpy as np\n",
    "from sklearn.metrics import mean_squared_error, r2_score, mean_absolute_error"
   ]
  },
  {
   "cell_type": "markdown",
   "id": "a61f7e79",
   "metadata": {},
   "source": [
    "# Load the data"
   ]
  },
  {
   "cell_type": "code",
   "execution_count": 18,
   "id": "f13ad6ba",
   "metadata": {},
   "outputs": [],
   "source": [
    "data = pd.read_csv('merged_data_clean.csv')\n",
    "data.dropna(subset=[\"market_value\"], inplace=True)"
   ]
  },
  {
   "cell_type": "code",
   "execution_count": 19,
   "id": "8b601819",
   "metadata": {},
   "outputs": [
    {
     "name": "stdout",
     "output_type": "stream",
     "text": [
      "Colonnes entièrement NaN : []\n"
     ]
    }
   ],
   "source": [
    "# Afficher les colonnes qui sont entièrement remplies de NaN dans le DataFrame data\n",
    "all_nan_cols = data.columns[data.isna().all()]\n",
    "print(\"Colonnes entièrement NaN :\", all_nan_cols.tolist())"
   ]
  },
  {
   "cell_type": "markdown",
   "id": "f7a5047b",
   "metadata": {},
   "source": [
    "# Clean the data\n"
   ]
  },
  {
   "cell_type": "code",
   "execution_count": 20,
   "id": "4798e185",
   "metadata": {},
   "outputs": [],
   "source": [
    "data.drop(columns=['Nation'],inplace=True)"
   ]
  },
  {
   "cell_type": "code",
   "execution_count": 21,
   "id": "292f2b66",
   "metadata": {},
   "outputs": [
    {
     "name": "stdout",
     "output_type": "stream",
     "text": [
      "Colonnes entièrement NaN : []\n"
     ]
    }
   ],
   "source": [
    "# Afficher les colonnes qui sont entièrement remplies de NaN dans le DataFrame data\n",
    "all_nan_cols = data.columns[data.isna().all()]\n",
    "print(\"Colonnes entièrement NaN :\", all_nan_cols.tolist())"
   ]
  },
  {
   "cell_type": "code",
   "execution_count": 22,
   "id": "653871ef",
   "metadata": {},
   "outputs": [],
   "source": [
    "data = data[data['Pos'] != 'GK']\n",
    "# Afficher les lignes contenant au moins une valeur NaN dans le DataFrame data\n",
    "# Supprimer toutes les colonnes contenant \"stats_keeper\", \"stats_keeper_adv\" ou \"(GK)\"\n",
    "cols_to_drop = [col for col in data.columns if \"stats_keeper\" in col or \"GK\" in col or \"(GK)\" in col]\n",
    "data.drop(columns=cols_to_drop, inplace=True)\n",
    "gk_cols = [\n",
    "    \"PSxG+/-\", \"CS\", \"Stp%\", \"Launch%\", \"Save%\", \"Saves\", \"CS%\", \"AvgDist\",\n",
    "    \"GA90\", \"GA\", \"Thr\", \"D\", \"PSxG\", \"SoTA\", \"AvgLen\", \"Stp\", \"/90\",\n",
    "    \"PSxG/SoT\", \"#OPA\", \"PKm\", \"PKsv\", \"#OPA/90\", \"PKA\", \"Opp\",\"W\",\"L\"\n",
    "]\n",
    "\n",
    "data.drop(columns=gk_cols, inplace=True)\n",
    "\n",
    "\n"
   ]
  },
  {
   "cell_type": "code",
   "execution_count": 23,
   "id": "b7fa913b",
   "metadata": {},
   "outputs": [
    {
     "name": "stdout",
     "output_type": "stream",
     "text": [
      "Colonnes entièrement NaN : []\n"
     ]
    }
   ],
   "source": [
    "# Afficher les colonnes qui sont entièrement remplies de NaN dans le DataFrame data\n",
    "all_nan_cols = data.columns[data.isna().all()]\n",
    "print(\"Colonnes entièrement NaN :\", all_nan_cols.tolist())"
   ]
  },
  {
   "cell_type": "code",
   "execution_count": 24,
   "id": "42027f74",
   "metadata": {},
   "outputs": [],
   "source": [
    "data[\"preferred_foot\"] = data[\"preferred_foot\"].map({\"Right\": 1, \"Left\": 0})"
   ]
  },
  {
   "cell_type": "code",
   "execution_count": 25,
   "id": "d5f2f0c8",
   "metadata": {},
   "outputs": [],
   "source": [
    "data.drop([\"normalized_player\", \"normalized_full_name\", \"full_name\", \"dob\", \"Age\", \"birth_year_y\", \"Player\", \"Squad\", \"Comp\", \"last_evaluation\"], axis=1, inplace=True)"
   ]
  },
  {
   "cell_type": "code",
   "execution_count": 26,
   "id": "04dc4c39",
   "metadata": {},
   "outputs": [],
   "source": [
    "columns_to_drop = [col for col in data.columns if \"Pos\" in col and col != \"Pos\"]\n",
    "data.drop(columns=columns_to_drop, inplace=True)"
   ]
  },
  {
   "cell_type": "code",
   "execution_count": 27,
   "id": "65d9a36a",
   "metadata": {},
   "outputs": [],
   "source": [
    "columns_to_drop = [col for col in data.columns if \"Nation\" in col and col != \"Nation\"]\n",
    "data.drop(columns=columns_to_drop, inplace=True)"
   ]
  },
  {
   "cell_type": "code",
   "execution_count": 28,
   "id": "f6867307",
   "metadata": {},
   "outputs": [],
   "source": [
    "columns_to_drop = [col for col in data.columns if \"Comp\" in col and col != \"Comp\"]\n",
    "data.drop(columns=columns_to_drop, inplace=True)"
   ]
  },
  {
   "cell_type": "code",
   "execution_count": 29,
   "id": "bd0c4822",
   "metadata": {},
   "outputs": [],
   "source": [
    "data['club_contract_valid_until'] = pd.to_datetime(data['club_contract_valid_until'], errors='coerce')\n",
    "data['club_contract_valid_until'] = data['club_contract_valid_until'].dt.year"
   ]
  },
  {
   "cell_type": "code",
   "execution_count": 30,
   "id": "9344035e",
   "metadata": {},
   "outputs": [],
   "source": [
    "data[\"years_left\"] = data[\"club_contract_valid_until\"].astype(float) - 2025\n",
    "data.drop(columns=[\"club_contract_valid_until\"], inplace=True)\n",
    "data = pd.get_dummies(data, columns=[\"Pos\"], prefix=\"Pos\", drop_first=True)\n"
   ]
  },
  {
   "cell_type": "code",
   "execution_count": 31,
   "id": "442c95d6",
   "metadata": {},
   "outputs": [],
   "source": [
    "columns_to_drop = [col for col in data.columns if \"Age\" in col]\n",
    "data.drop(columns=columns_to_drop, inplace=True)"
   ]
  },
  {
   "cell_type": "code",
   "execution_count": 40,
   "id": "2ea2870d",
   "metadata": {},
   "outputs": [],
   "source": [
    "cols_to_drop_90 = [\n",
    "    col for col in data.columns\n",
    "    if '/90' in col or '90s_' in col or col.endswith('90')\n",
    "]\n",
    "data.drop(columns=cols_to_drop_90, inplace=True)\n",
    "\n",
    "\n"
   ]
  },
  {
   "cell_type": "code",
   "execution_count": 48,
   "id": "2bdc7bc4",
   "metadata": {},
   "outputs": [
    {
     "name": "stdout",
     "output_type": "stream",
     "text": [
      "1810 échantillons, 179 features\n",
      "Ratio samples/features : 10.11\n"
     ]
    }
   ],
   "source": [
    "n_samples, n_features = data.shape\n",
    "print(f\"{n_samples} échantillons, {n_features} features\")\n",
    "print(f\"Ratio samples/features : {n_samples / n_features:.2f}\")\n",
    "\n"
   ]
  },
  {
   "cell_type": "markdown",
   "id": "6cc7bad2",
   "metadata": {},
   "source": [
    "| Catégorie                     | Exemples de colonnes conservées                                                | Description / Rôle dans la modélisation                                               |\n",
    "|------------------------------|----------------------------------------------------------------------------------|----------------------------------------------------------------------------------------|\n",
    "| Variable cible                | `market_value`                                                                 | Valeur marchande à prédire (variable de régression).                                  |\n",
    "| Identité / Caractéristiques  | `height_cm`, `weight_kg`, `preferred_foot`, `weak_foot`, `birth_year_x`        | Données démographiques et morphologiques du joueur.                                   |\n",
    "| Contrat / Mise à jour        | `years_left`, `value_updated`                                                  | Informations contractuelles : durée restante, date de mise à jour.                   |\n",
    "| Temps de jeu                 | `Min`, `MP`, `Starts`, `Subs`, `Mn/MP`, `Mn/Start`, `Mn/Sub`, `Min%`, `unSub`   | Quantité et répartition du temps de jeu.                                               |\n",
    "| Position (one-hot)           | `Pos_DF,MF`, `Pos_FW`, `Pos_MF`, etc.                                           | Postes joués, encodés en variables binaires.                                           |\n",
    "| Productivité offensive       | `Gls`, `G/Sh`, `G/SoT`, `G-xG`, `xG`, `xA`, `xAG`, `npxG`, `npxG+xAG`, `xG+xAG` | Capacité à marquer et transformer les occasions.                                      |\n",
    "| Création d’occasions         | `Ast`, `SCA`, `GCA`, `KP`, `A-xAG`                                              | Création de buts et d’actions dangereuses pour l’équipe.                              |\n",
    "| Jeu de passes                | `Pass`, `Cmp`, `Cmp%`, `PrgP`, `PassLive`, `PassDead`, `Cmp_stats_passing_types`| Qualité de passe, volume et précision, passes progressives.                           |\n",
    "| Conduite / progression       | `Carries`, `Succ`, `Succ%`, `Dist`, `TotDist`, `PrgC`, `PrgR`, `PrgDist`, `Rec`, `Recov`, `Touches` | Conduites de balle, distance parcourue, récupération.                         |\n",
    "| Défense / Duels              | `Tkl`, `Tkl%`, `Tkl+Int`, `TklW`, `Tkld`, `Tkld%`, `Won`, `Won%`, `Blocks`, `Int`, `Clr`, `Dis` | Engagement défensif, tacles, interceptions, duels.                           |\n",
    "| Zones du terrain             | `Att`, `Mid 3rd`, `Def 3rd`, `Att Pen`, `Def Pen`, `1/3`, `PPA`                 | Zones d’intervention préférentielles sur le terrain.                                 |\n",
    "| Phases / Types d’actions     | `Live`, `Dead`, `CK`, `CPA`, `FK`, `PK`, `PKatt`, `PKwon`, `PKcon`, `TI`, `TO`, `TB`, `Sw` | Types d’actions (jeux arrêtés, penalties, remises en jeu).                      |\n",
    "| Discipline / Événements      | `CrdY`, `CrdR`, `Fls`, `Fld`, `OG`, `Off`, `On-Off`, `Lost`, `Mis`, `Err`       | Discipline, fautes, erreurs, impact global sur l’équipe.                              |\n",
    "| Statistiques avancées        | `G+A`, `G+A-PK`, `G-PK`, `np:G-xG`, `xG+/-`, `+/-`                               | Indicateurs combinés et différentiels de performance.                                 |\n",
    "| Références techniques        | `Rk`, `Born`, `MP_stats_playing_time`, `Min_stats_playing_time`, `Rk_stats_*`   | Colonnes liées à l’origine ou des statistiques de référence internes.                |\n"
   ]
  },
  {
   "cell_type": "markdown",
   "id": "6d4672d2",
   "metadata": {},
   "source": [
    "# Baseline"
   ]
  },
  {
   "cell_type": "code",
   "execution_count": 43,
   "id": "eb831307",
   "metadata": {},
   "outputs": [
    {
     "name": "stdout",
     "output_type": "stream",
     "text": [
      "G/SoT         0.218232\n",
      "years_left    0.146961\n",
      "Mn/Start      0.092818\n",
      "Mn/Sub        0.088950\n",
      "npxG/Sh       0.083425\n",
      "Dist          0.083425\n",
      "SoT%          0.083425\n",
      "G/Sh          0.083425\n",
      "Succ%         0.074033\n",
      "Tkld%         0.074033\n",
      "Tkl%          0.060773\n",
      "Won%          0.040884\n",
      "Cmp%          0.003867\n",
      "On-Off        0.002210\n",
      "dtype: float64\n"
     ]
    }
   ],
   "source": [
    "nan_ratio = data.isna().mean().sort_values(ascending=False)\n",
    "print(nan_ratio[nan_ratio > 0])  # Colonnes concernées"
   ]
  },
  {
   "cell_type": "code",
   "execution_count": 45,
   "id": "c8595495",
   "metadata": {},
   "outputs": [
    {
     "data": {
      "text/plain": [
       "(1810, 179)"
      ]
     },
     "execution_count": 45,
     "metadata": {},
     "output_type": "execute_result"
    }
   ],
   "source": [
    "data.shape"
   ]
  },
  {
   "cell_type": "code",
   "execution_count": 44,
   "id": "1ff351a1",
   "metadata": {},
   "outputs": [
    {
     "name": "stdout",
     "output_type": "stream",
     "text": [
      "Nombre de lignes supprimées : 734\n",
      "Nombre de lignes restantes : 1076\n"
     ]
    }
   ],
   "source": [
    "# Créer une copie du DataFrame sans les lignes contenant des NaN\n",
    "data_no_nan = data.dropna()\n",
    "nb_lignes_supprimees = len(data) - len(data_no_nan)\n",
    "print(f\"Nombre de lignes supprimées : {nb_lignes_supprimees}\")\n",
    "print(f\"Nombre de lignes restantes : {len(data_no_nan)}\")"
   ]
  },
  {
   "cell_type": "code",
   "execution_count": 49,
   "id": "d83a3800",
   "metadata": {},
   "outputs": [
    {
     "name": "stdout",
     "output_type": "stream",
     "text": [
      "1076 échantillons, 179 features\n",
      "Ratio samples/features : 6.01\n"
     ]
    }
   ],
   "source": [
    "n_samples, n_features = data_no_nan.shape\n",
    "print(f\"{n_samples} échantillons, {n_features} features\")\n",
    "print(f\"Ratio samples/features : {n_samples / n_features:.2f}\")\n",
    "\n"
   ]
  },
  {
   "cell_type": "code",
   "execution_count": 47,
   "id": "3d4496e1",
   "metadata": {},
   "outputs": [],
   "source": [
    "X = data_no_nan.drop(columns=['market_value'])\n",
    "y = data_no_nan['market_value']\n",
    "X_train, X_test, y_train, y_test = train_test_split(X, y,random_state=42, test_size=0.1)"
   ]
  },
  {
   "cell_type": "code",
   "execution_count": 50,
   "id": "b8bb9161",
   "metadata": {},
   "outputs": [
    {
     "name": "stdout",
     "output_type": "stream",
     "text": [
      "Lasso MAE: 8767429.53\n",
      "Lasso RMSE: 148396442050629.44\n",
      "Lasso R²: 0.533\n"
     ]
    },
    {
     "name": "stderr",
     "output_type": "stream",
     "text": [
      "/Users/alexisletrung/Library/Python/3.9/lib/python/site-packages/sklearn/linear_model/_coordinate_descent.py:695: ConvergenceWarning: Objective did not converge. You might want to increase the number of iterations, check the scale of the features or consider increasing regularisation. Duality gap: 6.156e+16, tolerance: 4.546e+13\n",
      "  model = cd_fast.enet_coordinate_descent(\n"
     ]
    }
   ],
   "source": [
    "from sklearn.linear_model import Lasso\n",
    "\n",
    "# Entraîner un modèle Lasso sur X_train et y_train\n",
    "lasso = Lasso(alpha=1.0, max_iter=10000)\n",
    "lasso.fit(X_train, y_train)\n",
    "\n",
    "# Prédire et évaluer\n",
    "y_pred_lasso = lasso.predict(X_test)\n",
    "mae_lasso = mean_absolute_error(y_test, y_pred_lasso)\n",
    "rmse_lasso = mean_squared_error(y_test, y_pred_lasso)\n",
    "r2_lasso = r2_score(y_test, y_pred_lasso)\n",
    "\n",
    "print(f\"Lasso MAE: {mae_lasso:.2f}\")\n",
    "print(f\"Lasso RMSE: {rmse_lasso:.2f}\")\n",
    "print(f\"Lasso R²: {r2_lasso:.3f}\")"
   ]
  },
  {
   "cell_type": "markdown",
   "id": "a949f50a",
   "metadata": {},
   "source": [
    "## C'est de la merde apres\n"
   ]
  },
  {
   "cell_type": "code",
   "execution_count": 86,
   "id": "01de8781",
   "metadata": {},
   "outputs": [
    {
     "ename": "ValueError",
     "evalue": "Input X contains NaN.",
     "output_type": "error",
     "traceback": [
      "\u001b[0;31m---------------------------------------------------------------------------\u001b[0m",
      "\u001b[0;31mValueError\u001b[0m                                Traceback (most recent call last)",
      "Cell \u001b[0;32mIn[86], line 3\u001b[0m\n\u001b[1;32m      1\u001b[0m \u001b[38;5;28;01mfrom\u001b[39;00m\u001b[38;5;250m \u001b[39m\u001b[38;5;21;01msklearn\u001b[39;00m\u001b[38;5;21;01m.\u001b[39;00m\u001b[38;5;21;01mfeature_selection\u001b[39;00m\u001b[38;5;250m \u001b[39m\u001b[38;5;28;01mimport\u001b[39;00m f_regression\n\u001b[0;32m----> 3\u001b[0m f_vals, p_vals \u001b[38;5;241m=\u001b[39m \u001b[43mf_regression\u001b[49m\u001b[43m(\u001b[49m\u001b[43mdata\u001b[49m\u001b[38;5;241;43m.\u001b[39;49m\u001b[43mdrop\u001b[49m\u001b[43m(\u001b[49m\u001b[43mcolumns\u001b[49m\u001b[38;5;241;43m=\u001b[39;49m\u001b[43m[\u001b[49m\u001b[38;5;124;43m'\u001b[39;49m\u001b[38;5;124;43mmarket_value\u001b[39;49m\u001b[38;5;124;43m'\u001b[39;49m\u001b[43m]\u001b[49m\u001b[43m)\u001b[49m\u001b[43m,\u001b[49m\u001b[43m \u001b[49m\u001b[43mdata\u001b[49m\u001b[43m[\u001b[49m\u001b[38;5;124;43m'\u001b[39;49m\u001b[38;5;124;43mmarket_value\u001b[39;49m\u001b[38;5;124;43m'\u001b[39;49m\u001b[43m]\u001b[49m\u001b[43m)\u001b[49m\n\u001b[1;32m      6\u001b[0m significant \u001b[38;5;241m=\u001b[39m p_vals \u001b[38;5;241m<\u001b[39m \u001b[38;5;241m0.05\u001b[39m\n\u001b[1;32m      7\u001b[0m \u001b[38;5;28mprint\u001b[39m(\u001b[38;5;124mf\u001b[39m\u001b[38;5;124m\"\u001b[39m\u001b[38;5;132;01m{\u001b[39;00msignificant\u001b[38;5;241m.\u001b[39msum()\u001b[38;5;132;01m}\u001b[39;00m\u001b[38;5;124m features significatives sur \u001b[39m\u001b[38;5;132;01m{\u001b[39;00m\u001b[38;5;28mlen\u001b[39m(p_vals)\u001b[38;5;132;01m}\u001b[39;00m\u001b[38;5;124m\"\u001b[39m)\n",
      "File \u001b[0;32m~/Library/Python/3.9/lib/python/site-packages/sklearn/utils/_param_validation.py:216\u001b[0m, in \u001b[0;36mvalidate_params.<locals>.decorator.<locals>.wrapper\u001b[0;34m(*args, **kwargs)\u001b[0m\n\u001b[1;32m    210\u001b[0m \u001b[38;5;28;01mtry\u001b[39;00m:\n\u001b[1;32m    211\u001b[0m     \u001b[38;5;28;01mwith\u001b[39;00m config_context(\n\u001b[1;32m    212\u001b[0m         skip_parameter_validation\u001b[38;5;241m=\u001b[39m(\n\u001b[1;32m    213\u001b[0m             prefer_skip_nested_validation \u001b[38;5;129;01mor\u001b[39;00m global_skip_validation\n\u001b[1;32m    214\u001b[0m         )\n\u001b[1;32m    215\u001b[0m     ):\n\u001b[0;32m--> 216\u001b[0m         \u001b[38;5;28;01mreturn\u001b[39;00m \u001b[43mfunc\u001b[49m\u001b[43m(\u001b[49m\u001b[38;5;241;43m*\u001b[39;49m\u001b[43margs\u001b[49m\u001b[43m,\u001b[49m\u001b[43m \u001b[49m\u001b[38;5;241;43m*\u001b[39;49m\u001b[38;5;241;43m*\u001b[39;49m\u001b[43mkwargs\u001b[49m\u001b[43m)\u001b[49m\n\u001b[1;32m    217\u001b[0m \u001b[38;5;28;01mexcept\u001b[39;00m InvalidParameterError \u001b[38;5;28;01mas\u001b[39;00m e:\n\u001b[1;32m    218\u001b[0m     \u001b[38;5;66;03m# When the function is just a wrapper around an estimator, we allow\u001b[39;00m\n\u001b[1;32m    219\u001b[0m     \u001b[38;5;66;03m# the function to delegate validation to the estimator, but we replace\u001b[39;00m\n\u001b[1;32m    220\u001b[0m     \u001b[38;5;66;03m# the name of the estimator by the name of the function in the error\u001b[39;00m\n\u001b[1;32m    221\u001b[0m     \u001b[38;5;66;03m# message to avoid confusion.\u001b[39;00m\n\u001b[1;32m    222\u001b[0m     msg \u001b[38;5;241m=\u001b[39m re\u001b[38;5;241m.\u001b[39msub(\n\u001b[1;32m    223\u001b[0m         \u001b[38;5;124mr\u001b[39m\u001b[38;5;124m\"\u001b[39m\u001b[38;5;124mparameter of \u001b[39m\u001b[38;5;124m\\\u001b[39m\u001b[38;5;124mw+ must be\u001b[39m\u001b[38;5;124m\"\u001b[39m,\n\u001b[1;32m    224\u001b[0m         \u001b[38;5;124mf\u001b[39m\u001b[38;5;124m\"\u001b[39m\u001b[38;5;124mparameter of \u001b[39m\u001b[38;5;132;01m{\u001b[39;00mfunc\u001b[38;5;241m.\u001b[39m\u001b[38;5;18m__qualname__\u001b[39m\u001b[38;5;132;01m}\u001b[39;00m\u001b[38;5;124m must be\u001b[39m\u001b[38;5;124m\"\u001b[39m,\n\u001b[1;32m    225\u001b[0m         \u001b[38;5;28mstr\u001b[39m(e),\n\u001b[1;32m    226\u001b[0m     )\n",
      "File \u001b[0;32m~/Library/Python/3.9/lib/python/site-packages/sklearn/feature_selection/_univariate_selection.py:500\u001b[0m, in \u001b[0;36mf_regression\u001b[0;34m(X, y, center, force_finite)\u001b[0m\n\u001b[1;32m    398\u001b[0m \u001b[38;5;129m@validate_params\u001b[39m(\n\u001b[1;32m    399\u001b[0m     {\n\u001b[1;32m    400\u001b[0m         \u001b[38;5;124m\"\u001b[39m\u001b[38;5;124mX\u001b[39m\u001b[38;5;124m\"\u001b[39m: [\u001b[38;5;124m\"\u001b[39m\u001b[38;5;124marray-like\u001b[39m\u001b[38;5;124m\"\u001b[39m, \u001b[38;5;124m\"\u001b[39m\u001b[38;5;124msparse matrix\u001b[39m\u001b[38;5;124m\"\u001b[39m],\n\u001b[0;32m   (...)\u001b[0m\n\u001b[1;32m    406\u001b[0m )\n\u001b[1;32m    407\u001b[0m \u001b[38;5;28;01mdef\u001b[39;00m\u001b[38;5;250m \u001b[39m\u001b[38;5;21mf_regression\u001b[39m(X, y, \u001b[38;5;241m*\u001b[39m, center\u001b[38;5;241m=\u001b[39m\u001b[38;5;28;01mTrue\u001b[39;00m, force_finite\u001b[38;5;241m=\u001b[39m\u001b[38;5;28;01mTrue\u001b[39;00m):\n\u001b[1;32m    408\u001b[0m \u001b[38;5;250m    \u001b[39m\u001b[38;5;124;03m\"\"\"Univariate linear regression tests returning F-statistic and p-values.\u001b[39;00m\n\u001b[1;32m    409\u001b[0m \n\u001b[1;32m    410\u001b[0m \u001b[38;5;124;03m    Quick linear model for testing the effect of a single regressor,\u001b[39;00m\n\u001b[0;32m   (...)\u001b[0m\n\u001b[1;32m    498\u001b[0m \u001b[38;5;124;03m    array([2.7..., 1.5..., 1.0...])\u001b[39;00m\n\u001b[1;32m    499\u001b[0m \u001b[38;5;124;03m    \"\"\"\u001b[39;00m\n\u001b[0;32m--> 500\u001b[0m     correlation_coefficient \u001b[38;5;241m=\u001b[39m \u001b[43mr_regression\u001b[49m\u001b[43m(\u001b[49m\n\u001b[1;32m    501\u001b[0m \u001b[43m        \u001b[49m\u001b[43mX\u001b[49m\u001b[43m,\u001b[49m\u001b[43m \u001b[49m\u001b[43my\u001b[49m\u001b[43m,\u001b[49m\u001b[43m \u001b[49m\u001b[43mcenter\u001b[49m\u001b[38;5;241;43m=\u001b[39;49m\u001b[43mcenter\u001b[49m\u001b[43m,\u001b[49m\u001b[43m \u001b[49m\u001b[43mforce_finite\u001b[49m\u001b[38;5;241;43m=\u001b[39;49m\u001b[43mforce_finite\u001b[49m\n\u001b[1;32m    502\u001b[0m \u001b[43m    \u001b[49m\u001b[43m)\u001b[49m\n\u001b[1;32m    503\u001b[0m     deg_of_freedom \u001b[38;5;241m=\u001b[39m y\u001b[38;5;241m.\u001b[39msize \u001b[38;5;241m-\u001b[39m (\u001b[38;5;241m2\u001b[39m \u001b[38;5;28;01mif\u001b[39;00m center \u001b[38;5;28;01melse\u001b[39;00m \u001b[38;5;241m1\u001b[39m)\n\u001b[1;32m    505\u001b[0m     corr_coef_squared \u001b[38;5;241m=\u001b[39m correlation_coefficient\u001b[38;5;241m*\u001b[39m\u001b[38;5;241m*\u001b[39m\u001b[38;5;241m2\u001b[39m\n",
      "File \u001b[0;32m~/Library/Python/3.9/lib/python/site-packages/sklearn/utils/_param_validation.py:189\u001b[0m, in \u001b[0;36mvalidate_params.<locals>.decorator.<locals>.wrapper\u001b[0;34m(*args, **kwargs)\u001b[0m\n\u001b[1;32m    187\u001b[0m global_skip_validation \u001b[38;5;241m=\u001b[39m get_config()[\u001b[38;5;124m\"\u001b[39m\u001b[38;5;124mskip_parameter_validation\u001b[39m\u001b[38;5;124m\"\u001b[39m]\n\u001b[1;32m    188\u001b[0m \u001b[38;5;28;01mif\u001b[39;00m global_skip_validation:\n\u001b[0;32m--> 189\u001b[0m     \u001b[38;5;28;01mreturn\u001b[39;00m \u001b[43mfunc\u001b[49m\u001b[43m(\u001b[49m\u001b[38;5;241;43m*\u001b[39;49m\u001b[43margs\u001b[49m\u001b[43m,\u001b[49m\u001b[43m \u001b[49m\u001b[38;5;241;43m*\u001b[39;49m\u001b[38;5;241;43m*\u001b[39;49m\u001b[43mkwargs\u001b[49m\u001b[43m)\u001b[49m\n\u001b[1;32m    191\u001b[0m func_sig \u001b[38;5;241m=\u001b[39m signature(func)\n\u001b[1;32m    193\u001b[0m \u001b[38;5;66;03m# Map *args/**kwargs to the function signature\u001b[39;00m\n",
      "File \u001b[0;32m~/Library/Python/3.9/lib/python/site-packages/sklearn/feature_selection/_univariate_selection.py:365\u001b[0m, in \u001b[0;36mr_regression\u001b[0;34m(X, y, center, force_finite)\u001b[0m\n\u001b[1;32m    293\u001b[0m \u001b[38;5;129m@validate_params\u001b[39m(\n\u001b[1;32m    294\u001b[0m     {\n\u001b[1;32m    295\u001b[0m         \u001b[38;5;124m\"\u001b[39m\u001b[38;5;124mX\u001b[39m\u001b[38;5;124m\"\u001b[39m: [\u001b[38;5;124m\"\u001b[39m\u001b[38;5;124marray-like\u001b[39m\u001b[38;5;124m\"\u001b[39m, \u001b[38;5;124m\"\u001b[39m\u001b[38;5;124msparse matrix\u001b[39m\u001b[38;5;124m\"\u001b[39m],\n\u001b[0;32m   (...)\u001b[0m\n\u001b[1;32m    301\u001b[0m )\n\u001b[1;32m    302\u001b[0m \u001b[38;5;28;01mdef\u001b[39;00m\u001b[38;5;250m \u001b[39m\u001b[38;5;21mr_regression\u001b[39m(X, y, \u001b[38;5;241m*\u001b[39m, center\u001b[38;5;241m=\u001b[39m\u001b[38;5;28;01mTrue\u001b[39;00m, force_finite\u001b[38;5;241m=\u001b[39m\u001b[38;5;28;01mTrue\u001b[39;00m):\n\u001b[1;32m    303\u001b[0m \u001b[38;5;250m    \u001b[39m\u001b[38;5;124;03m\"\"\"Compute Pearson's r for each features and the target.\u001b[39;00m\n\u001b[1;32m    304\u001b[0m \n\u001b[1;32m    305\u001b[0m \u001b[38;5;124;03m    Pearson's r is also known as the Pearson correlation coefficient.\u001b[39;00m\n\u001b[0;32m   (...)\u001b[0m\n\u001b[1;32m    363\u001b[0m \u001b[38;5;124;03m    array([-0.15...,  1.        , -0.22...])\u001b[39;00m\n\u001b[1;32m    364\u001b[0m \u001b[38;5;124;03m    \"\"\"\u001b[39;00m\n\u001b[0;32m--> 365\u001b[0m     X, y \u001b[38;5;241m=\u001b[39m \u001b[43mcheck_X_y\u001b[49m\u001b[43m(\u001b[49m\u001b[43mX\u001b[49m\u001b[43m,\u001b[49m\u001b[43m \u001b[49m\u001b[43my\u001b[49m\u001b[43m,\u001b[49m\u001b[43m \u001b[49m\u001b[43maccept_sparse\u001b[49m\u001b[38;5;241;43m=\u001b[39;49m\u001b[43m[\u001b[49m\u001b[38;5;124;43m\"\u001b[39;49m\u001b[38;5;124;43mcsr\u001b[39;49m\u001b[38;5;124;43m\"\u001b[39;49m\u001b[43m,\u001b[49m\u001b[43m \u001b[49m\u001b[38;5;124;43m\"\u001b[39;49m\u001b[38;5;124;43mcsc\u001b[39;49m\u001b[38;5;124;43m\"\u001b[39;49m\u001b[43m,\u001b[49m\u001b[43m \u001b[49m\u001b[38;5;124;43m\"\u001b[39;49m\u001b[38;5;124;43mcoo\u001b[39;49m\u001b[38;5;124;43m\"\u001b[39;49m\u001b[43m]\u001b[49m\u001b[43m,\u001b[49m\u001b[43m \u001b[49m\u001b[43mdtype\u001b[49m\u001b[38;5;241;43m=\u001b[39;49m\u001b[43mnp\u001b[49m\u001b[38;5;241;43m.\u001b[39;49m\u001b[43mfloat64\u001b[49m\u001b[43m)\u001b[49m\n\u001b[1;32m    366\u001b[0m     n_samples \u001b[38;5;241m=\u001b[39m X\u001b[38;5;241m.\u001b[39mshape[\u001b[38;5;241m0\u001b[39m]\n\u001b[1;32m    368\u001b[0m     \u001b[38;5;66;03m# Compute centered values\u001b[39;00m\n\u001b[1;32m    369\u001b[0m     \u001b[38;5;66;03m# Note that E[(x - mean(x))*(y - mean(y))] = E[x*(y - mean(y))], so we\u001b[39;00m\n\u001b[1;32m    370\u001b[0m     \u001b[38;5;66;03m# need not center X\u001b[39;00m\n",
      "File \u001b[0;32m~/Library/Python/3.9/lib/python/site-packages/sklearn/utils/validation.py:1370\u001b[0m, in \u001b[0;36mcheck_X_y\u001b[0;34m(X, y, accept_sparse, accept_large_sparse, dtype, order, copy, force_writeable, force_all_finite, ensure_all_finite, ensure_2d, allow_nd, multi_output, ensure_min_samples, ensure_min_features, y_numeric, estimator)\u001b[0m\n\u001b[1;32m   1364\u001b[0m     \u001b[38;5;28;01mraise\u001b[39;00m \u001b[38;5;167;01mValueError\u001b[39;00m(\n\u001b[1;32m   1365\u001b[0m         \u001b[38;5;124mf\u001b[39m\u001b[38;5;124m\"\u001b[39m\u001b[38;5;132;01m{\u001b[39;00mestimator_name\u001b[38;5;132;01m}\u001b[39;00m\u001b[38;5;124m requires y to be passed, but the target y is None\u001b[39m\u001b[38;5;124m\"\u001b[39m\n\u001b[1;32m   1366\u001b[0m     )\n\u001b[1;32m   1368\u001b[0m ensure_all_finite \u001b[38;5;241m=\u001b[39m _deprecate_force_all_finite(force_all_finite, ensure_all_finite)\n\u001b[0;32m-> 1370\u001b[0m X \u001b[38;5;241m=\u001b[39m \u001b[43mcheck_array\u001b[49m\u001b[43m(\u001b[49m\n\u001b[1;32m   1371\u001b[0m \u001b[43m    \u001b[49m\u001b[43mX\u001b[49m\u001b[43m,\u001b[49m\n\u001b[1;32m   1372\u001b[0m \u001b[43m    \u001b[49m\u001b[43maccept_sparse\u001b[49m\u001b[38;5;241;43m=\u001b[39;49m\u001b[43maccept_sparse\u001b[49m\u001b[43m,\u001b[49m\n\u001b[1;32m   1373\u001b[0m \u001b[43m    \u001b[49m\u001b[43maccept_large_sparse\u001b[49m\u001b[38;5;241;43m=\u001b[39;49m\u001b[43maccept_large_sparse\u001b[49m\u001b[43m,\u001b[49m\n\u001b[1;32m   1374\u001b[0m \u001b[43m    \u001b[49m\u001b[43mdtype\u001b[49m\u001b[38;5;241;43m=\u001b[39;49m\u001b[43mdtype\u001b[49m\u001b[43m,\u001b[49m\n\u001b[1;32m   1375\u001b[0m \u001b[43m    \u001b[49m\u001b[43morder\u001b[49m\u001b[38;5;241;43m=\u001b[39;49m\u001b[43morder\u001b[49m\u001b[43m,\u001b[49m\n\u001b[1;32m   1376\u001b[0m \u001b[43m    \u001b[49m\u001b[43mcopy\u001b[49m\u001b[38;5;241;43m=\u001b[39;49m\u001b[43mcopy\u001b[49m\u001b[43m,\u001b[49m\n\u001b[1;32m   1377\u001b[0m \u001b[43m    \u001b[49m\u001b[43mforce_writeable\u001b[49m\u001b[38;5;241;43m=\u001b[39;49m\u001b[43mforce_writeable\u001b[49m\u001b[43m,\u001b[49m\n\u001b[1;32m   1378\u001b[0m \u001b[43m    \u001b[49m\u001b[43mensure_all_finite\u001b[49m\u001b[38;5;241;43m=\u001b[39;49m\u001b[43mensure_all_finite\u001b[49m\u001b[43m,\u001b[49m\n\u001b[1;32m   1379\u001b[0m \u001b[43m    \u001b[49m\u001b[43mensure_2d\u001b[49m\u001b[38;5;241;43m=\u001b[39;49m\u001b[43mensure_2d\u001b[49m\u001b[43m,\u001b[49m\n\u001b[1;32m   1380\u001b[0m \u001b[43m    \u001b[49m\u001b[43mallow_nd\u001b[49m\u001b[38;5;241;43m=\u001b[39;49m\u001b[43mallow_nd\u001b[49m\u001b[43m,\u001b[49m\n\u001b[1;32m   1381\u001b[0m \u001b[43m    \u001b[49m\u001b[43mensure_min_samples\u001b[49m\u001b[38;5;241;43m=\u001b[39;49m\u001b[43mensure_min_samples\u001b[49m\u001b[43m,\u001b[49m\n\u001b[1;32m   1382\u001b[0m \u001b[43m    \u001b[49m\u001b[43mensure_min_features\u001b[49m\u001b[38;5;241;43m=\u001b[39;49m\u001b[43mensure_min_features\u001b[49m\u001b[43m,\u001b[49m\n\u001b[1;32m   1383\u001b[0m \u001b[43m    \u001b[49m\u001b[43mestimator\u001b[49m\u001b[38;5;241;43m=\u001b[39;49m\u001b[43mestimator\u001b[49m\u001b[43m,\u001b[49m\n\u001b[1;32m   1384\u001b[0m \u001b[43m    \u001b[49m\u001b[43minput_name\u001b[49m\u001b[38;5;241;43m=\u001b[39;49m\u001b[38;5;124;43m\"\u001b[39;49m\u001b[38;5;124;43mX\u001b[39;49m\u001b[38;5;124;43m\"\u001b[39;49m\u001b[43m,\u001b[49m\n\u001b[1;32m   1385\u001b[0m \u001b[43m\u001b[49m\u001b[43m)\u001b[49m\n\u001b[1;32m   1387\u001b[0m y \u001b[38;5;241m=\u001b[39m _check_y(y, multi_output\u001b[38;5;241m=\u001b[39mmulti_output, y_numeric\u001b[38;5;241m=\u001b[39my_numeric, estimator\u001b[38;5;241m=\u001b[39mestimator)\n\u001b[1;32m   1389\u001b[0m check_consistent_length(X, y)\n",
      "File \u001b[0;32m~/Library/Python/3.9/lib/python/site-packages/sklearn/utils/validation.py:1107\u001b[0m, in \u001b[0;36mcheck_array\u001b[0;34m(array, accept_sparse, accept_large_sparse, dtype, order, copy, force_writeable, force_all_finite, ensure_all_finite, ensure_non_negative, ensure_2d, allow_nd, ensure_min_samples, ensure_min_features, estimator, input_name)\u001b[0m\n\u001b[1;32m   1101\u001b[0m     \u001b[38;5;28;01mraise\u001b[39;00m \u001b[38;5;167;01mValueError\u001b[39;00m(\n\u001b[1;32m   1102\u001b[0m         \u001b[38;5;124m\"\u001b[39m\u001b[38;5;124mFound array with dim \u001b[39m\u001b[38;5;132;01m%d\u001b[39;00m\u001b[38;5;124m. \u001b[39m\u001b[38;5;132;01m%s\u001b[39;00m\u001b[38;5;124m expected <= 2.\u001b[39m\u001b[38;5;124m\"\u001b[39m\n\u001b[1;32m   1103\u001b[0m         \u001b[38;5;241m%\u001b[39m (array\u001b[38;5;241m.\u001b[39mndim, estimator_name)\n\u001b[1;32m   1104\u001b[0m     )\n\u001b[1;32m   1106\u001b[0m \u001b[38;5;28;01mif\u001b[39;00m ensure_all_finite:\n\u001b[0;32m-> 1107\u001b[0m     \u001b[43m_assert_all_finite\u001b[49m\u001b[43m(\u001b[49m\n\u001b[1;32m   1108\u001b[0m \u001b[43m        \u001b[49m\u001b[43marray\u001b[49m\u001b[43m,\u001b[49m\n\u001b[1;32m   1109\u001b[0m \u001b[43m        \u001b[49m\u001b[43minput_name\u001b[49m\u001b[38;5;241;43m=\u001b[39;49m\u001b[43minput_name\u001b[49m\u001b[43m,\u001b[49m\n\u001b[1;32m   1110\u001b[0m \u001b[43m        \u001b[49m\u001b[43mestimator_name\u001b[49m\u001b[38;5;241;43m=\u001b[39;49m\u001b[43mestimator_name\u001b[49m\u001b[43m,\u001b[49m\n\u001b[1;32m   1111\u001b[0m \u001b[43m        \u001b[49m\u001b[43mallow_nan\u001b[49m\u001b[38;5;241;43m=\u001b[39;49m\u001b[43mensure_all_finite\u001b[49m\u001b[43m \u001b[49m\u001b[38;5;241;43m==\u001b[39;49m\u001b[43m \u001b[49m\u001b[38;5;124;43m\"\u001b[39;49m\u001b[38;5;124;43mallow-nan\u001b[39;49m\u001b[38;5;124;43m\"\u001b[39;49m\u001b[43m,\u001b[49m\n\u001b[1;32m   1112\u001b[0m \u001b[43m    \u001b[49m\u001b[43m)\u001b[49m\n\u001b[1;32m   1114\u001b[0m \u001b[38;5;28;01mif\u001b[39;00m copy:\n\u001b[1;32m   1115\u001b[0m     \u001b[38;5;28;01mif\u001b[39;00m _is_numpy_namespace(xp):\n\u001b[1;32m   1116\u001b[0m         \u001b[38;5;66;03m# only make a copy if `array` and `array_orig` may share memory`\u001b[39;00m\n",
      "File \u001b[0;32m~/Library/Python/3.9/lib/python/site-packages/sklearn/utils/validation.py:120\u001b[0m, in \u001b[0;36m_assert_all_finite\u001b[0;34m(X, allow_nan, msg_dtype, estimator_name, input_name)\u001b[0m\n\u001b[1;32m    117\u001b[0m \u001b[38;5;28;01mif\u001b[39;00m first_pass_isfinite:\n\u001b[1;32m    118\u001b[0m     \u001b[38;5;28;01mreturn\u001b[39;00m\n\u001b[0;32m--> 120\u001b[0m \u001b[43m_assert_all_finite_element_wise\u001b[49m\u001b[43m(\u001b[49m\n\u001b[1;32m    121\u001b[0m \u001b[43m    \u001b[49m\u001b[43mX\u001b[49m\u001b[43m,\u001b[49m\n\u001b[1;32m    122\u001b[0m \u001b[43m    \u001b[49m\u001b[43mxp\u001b[49m\u001b[38;5;241;43m=\u001b[39;49m\u001b[43mxp\u001b[49m\u001b[43m,\u001b[49m\n\u001b[1;32m    123\u001b[0m \u001b[43m    \u001b[49m\u001b[43mallow_nan\u001b[49m\u001b[38;5;241;43m=\u001b[39;49m\u001b[43mallow_nan\u001b[49m\u001b[43m,\u001b[49m\n\u001b[1;32m    124\u001b[0m \u001b[43m    \u001b[49m\u001b[43mmsg_dtype\u001b[49m\u001b[38;5;241;43m=\u001b[39;49m\u001b[43mmsg_dtype\u001b[49m\u001b[43m,\u001b[49m\n\u001b[1;32m    125\u001b[0m \u001b[43m    \u001b[49m\u001b[43mestimator_name\u001b[49m\u001b[38;5;241;43m=\u001b[39;49m\u001b[43mestimator_name\u001b[49m\u001b[43m,\u001b[49m\n\u001b[1;32m    126\u001b[0m \u001b[43m    \u001b[49m\u001b[43minput_name\u001b[49m\u001b[38;5;241;43m=\u001b[39;49m\u001b[43minput_name\u001b[49m\u001b[43m,\u001b[49m\n\u001b[1;32m    127\u001b[0m \u001b[43m\u001b[49m\u001b[43m)\u001b[49m\n",
      "File \u001b[0;32m~/Library/Python/3.9/lib/python/site-packages/sklearn/utils/validation.py:169\u001b[0m, in \u001b[0;36m_assert_all_finite_element_wise\u001b[0;34m(X, xp, allow_nan, msg_dtype, estimator_name, input_name)\u001b[0m\n\u001b[1;32m    152\u001b[0m \u001b[38;5;28;01mif\u001b[39;00m estimator_name \u001b[38;5;129;01mand\u001b[39;00m input_name \u001b[38;5;241m==\u001b[39m \u001b[38;5;124m\"\u001b[39m\u001b[38;5;124mX\u001b[39m\u001b[38;5;124m\"\u001b[39m \u001b[38;5;129;01mand\u001b[39;00m has_nan_error:\n\u001b[1;32m    153\u001b[0m     \u001b[38;5;66;03m# Improve the error message on how to handle missing values in\u001b[39;00m\n\u001b[1;32m    154\u001b[0m     \u001b[38;5;66;03m# scikit-learn.\u001b[39;00m\n\u001b[1;32m    155\u001b[0m     msg_err \u001b[38;5;241m+\u001b[39m\u001b[38;5;241m=\u001b[39m (\n\u001b[1;32m    156\u001b[0m         \u001b[38;5;124mf\u001b[39m\u001b[38;5;124m\"\u001b[39m\u001b[38;5;130;01m\\n\u001b[39;00m\u001b[38;5;132;01m{\u001b[39;00mestimator_name\u001b[38;5;132;01m}\u001b[39;00m\u001b[38;5;124m does not accept missing values\u001b[39m\u001b[38;5;124m\"\u001b[39m\n\u001b[1;32m    157\u001b[0m         \u001b[38;5;124m\"\u001b[39m\u001b[38;5;124m encoded as NaN natively. For supervised learning, you might want\u001b[39m\u001b[38;5;124m\"\u001b[39m\n\u001b[0;32m   (...)\u001b[0m\n\u001b[1;32m    167\u001b[0m         \u001b[38;5;124m\"\u001b[39m\u001b[38;5;124m#estimators-that-handle-nan-values\u001b[39m\u001b[38;5;124m\"\u001b[39m\n\u001b[1;32m    168\u001b[0m     )\n\u001b[0;32m--> 169\u001b[0m \u001b[38;5;28;01mraise\u001b[39;00m \u001b[38;5;167;01mValueError\u001b[39;00m(msg_err)\n",
      "\u001b[0;31mValueError\u001b[0m: Input X contains NaN."
     ]
    }
   ],
   "source": [
    "from sklearn.feature_selection import f_regression\n",
    "\n",
    "f_vals, p_vals = f_regression(data.drop(columns=['market_value']), data['market_value'])\n",
    "\n",
    "\n",
    "significant = p_vals < 0.05\n",
    "print(f\"{significant.sum()} features significatives sur {len(p_vals)}\")\n"
   ]
  },
  {
   "cell_type": "code",
   "execution_count": 11,
   "id": "8c655a06",
   "metadata": {},
   "outputs": [],
   "source": [
    "X = data.drop(columns=['market_value'])\n",
    "y = data['market_value']\n",
    "X_train, X_test, y_train, y_test = train_test_split(X, y)"
   ]
  },
  {
   "cell_type": "code",
   "execution_count": 12,
   "id": "25eabce6",
   "metadata": {},
   "outputs": [
    {
     "name": "stdout",
     "output_type": "stream",
     "text": [
      "xG+/-            0.327806\n",
      "SCA              0.053197\n",
      "+/-              0.043592\n",
      "PassLive         0.034231\n",
      "id               0.034015\n",
      "                   ...   \n",
      "Nation_pe PER    0.000000\n",
      "Nation_pa PAN    0.000000\n",
      "Nation_nz NZL    0.000000\n",
      "Nation_cf CTA    0.000000\n",
      "Nation_il ISR    0.000000\n",
      "Length: 332, dtype: float64\n"
     ]
    }
   ],
   "source": [
    "# Fit the RandomForestRegressor\n",
    "rf = RandomForestRegressor()\n",
    "rf.fit(X_train, y_train)\n",
    "\n",
    "# Get feature importances\n",
    "importances = pd.Series(rf.feature_importances_, index=X_train.columns)\n",
    "print(importances.sort_values(ascending=False))"
   ]
  },
  {
   "cell_type": "code",
   "execution_count": 31,
   "id": "b833fe43",
   "metadata": {},
   "outputs": [],
   "source": [
    "importances.sort_values(ascending=False).to_csv('feature_importances.csv')"
   ]
  },
  {
   "cell_type": "code",
   "execution_count": 23,
   "id": "1544bac4",
   "metadata": {},
   "outputs": [
    {
     "data": {
      "text/plain": [
       "['xG+/-',\n",
       " '+/-',\n",
       " 'Fld_stats_misc',\n",
       " 'id',\n",
       " 'Succ',\n",
       " 'SCA',\n",
       " 'Att 3rd_stats_possession',\n",
       " 'onG',\n",
       " 'Att Pen',\n",
       " 'TotDist_stats_possession',\n",
       " 'SCA90',\n",
       " 'PassLive',\n",
       " 'PPM',\n",
       " 'KP',\n",
       " 'Cmp%',\n",
       " '1/3_stats_possession',\n",
       " 'PrgC_stats_possession',\n",
       " 'PrgDist_stats_possession',\n",
       " 'Born',\n",
       " 'Born_stats_misc',\n",
       " 'Born_stats_passing',\n",
       " 'Born_stats_shooting',\n",
       " 'Born_stats_gca',\n",
       " 'xG+/-90',\n",
       " 'Tkld',\n",
       " 'Born_stats_defense',\n",
       " 'Born_stats_passing_types',\n",
       " 'npxG+xAG',\n",
       " 'Mn/Sub',\n",
       " 'On-Off']"
      ]
     },
     "execution_count": 23,
     "metadata": {},
     "output_type": "execute_result"
    }
   ],
   "source": [
    "selected_columns = importances.sort_values(ascending=False).index[:30].tolist()\n",
    "selected_columns"
   ]
  },
  {
   "cell_type": "code",
   "execution_count": 32,
   "id": "6b39f13e",
   "metadata": {},
   "outputs": [],
   "source": [
    "X_train = X_train[selected_columns]  # Sélection des 10 meilleures features"
   ]
  },
  {
   "cell_type": "code",
   "execution_count": 36,
   "id": "7de6c3a2",
   "metadata": {},
   "outputs": [
    {
     "data": {
      "text/plain": [
       "(1336, 30)"
      ]
     },
     "execution_count": 36,
     "metadata": {},
     "output_type": "execute_result"
    }
   ],
   "source": [
    "X_train.shape"
   ]
  },
  {
   "cell_type": "code",
   "execution_count": null,
   "id": "73bbc00f",
   "metadata": {},
   "outputs": [
    {
     "name": "stdout",
     "output_type": "stream",
     "text": [
      "Ridge MAE: 8740978.32\n",
      "Ridge RMSE: 143013386305343.59\n",
      "Ridge R²: 0.466\n"
     ]
    }
   ],
   "source": [
    "\n",
    "\n",
    "# Train Ridge regression on the same data\n",
    "ridge = Ridge()\n",
    "ridge.fit(X_train, y_train)\n",
    "\n",
    "# Predict and evaluate\n",
    "y_pred_ridge = ridge.predict(X_test)\n",
    "mae_ridge = mean_absolute_error(y_test, y_pred_ridge)\n",
    "rmse_ridge = mean_squared_error(y_test, y_pred_ridge)\n",
    "r2_ridge = r2_score(y_test, y_pred_ridge)\n",
    "\n",
    "print(f\"Ridge MAE: {mae_ridge:.2f}\")\n",
    "print(f\"Ridge RMSE: {rmse_ridge:.2f}\")\n",
    "print(f\"Ridge R²: {r2_ridge:.3f}\")"
   ]
  },
  {
   "cell_type": "code",
   "execution_count": 38,
   "id": "332f6557",
   "metadata": {},
   "outputs": [
    {
     "name": "stdout",
     "output_type": "stream",
     "text": [
      "RandomForest MAE: 8741295.05\n",
      "RandomForest RMSE: 143027446229128.31\n",
      "RandomForest R²: 0.465\n"
     ]
    }
   ],
   "source": [
    "# Train a RandomForestRegressor on the same data\n",
    "rf = LinearRegression()\n",
    "rf.fit(X_train, y_train)\n",
    "\n",
    "# Predict and evaluate\n",
    "y_pred_rf = rf.predict(X_test)\n",
    "mae_rf = mean_absolute_error(y_test, y_pred_rf)\n",
    "rmse_rf = mean_squared_error(y_test, y_pred_rf)\n",
    "r2_rf = r2_score(y_test, y_pred_rf)\n",
    "\n",
    "print(f\"RandomForest MAE: {mae_rf:.2f}\")\n",
    "print(f\"RandomForest RMSE: {rmse_rf:.2f}\")\n",
    "print(f\"RandomForest R²: {r2_rf:.3f}\")"
   ]
  },
  {
   "cell_type": "markdown",
   "id": "76600ef0",
   "metadata": {},
   "source": []
  },
  {
   "cell_type": "code",
   "execution_count": 34,
   "id": "8d984964",
   "metadata": {},
   "outputs": [
    {
     "name": "stdout",
     "output_type": "stream",
     "text": [
      "MAE : 8741295.05\n",
      "RMSE : 143027446229128.31\n",
      "R² : 0.465\n",
      "MAE : 8741295.05\n",
      "RMSE : 143027446229128.31\n",
      "R² : 0.465\n",
      "Nombre de variables (num + dummies) : 30\n"
     ]
    }
   ],
   "source": [
    "# Use already defined data and selected_columns\n",
    "df = data[selected_columns].dropna()\n",
    "\n",
    "# Define features and target\n",
    "X = df\n",
    "y = data['market_value'].loc[df.index]\n",
    "\n",
    "# Split train/test\n",
    "X_train, X_test, y_train, y_test = train_test_split(X, y, test_size=0.2, random_state=42)\n",
    "\n",
    "# Train model\n",
    "model = LinearRegression()\n",
    "model.fit(X_train, y_train)\n",
    "\n",
    "# Predictions and evaluation\n",
    "y_pred = model.predict(X_test)\n",
    "\n",
    "mae = mean_absolute_error(y_test, y_pred)\n",
    "rmse = mean_squared_error(y_test, y_pred)\n",
    "r2 = r2_score(y_test, y_pred)\n",
    "\n",
    "print(f\"MAE : {mae:.2f}\")\n",
    "print(f\"RMSE : {rmse:.2f}\")\n",
    "print(f\"R² : {r2:.3f}\")\n",
    "# If you want to use the same X_train and y_train as used for the RandomForestRegressor,\n",
    "# simply reuse those variables directly (they are already defined and split above).\n",
    "# You do NOT need to redefine or resplit X_train and y_train here.\n",
    "\n",
    "# Train model on the same train set as RandomForestRegressor\n",
    "model = LinearRegression()\n",
    "model.fit(X_train, y_train)\n",
    "\n",
    "# Predictions and evaluation\n",
    "y_pred = model.predict(X_test)\n",
    "\n",
    "mae = mean_absolute_error(y_test, y_pred)\n",
    "rmse = mean_squared_error(y_test, y_pred)\n",
    "r2 = r2_score(y_test, y_pred)\n",
    "\n",
    "print(f\"MAE : {mae:.2f}\")\n",
    "print(f\"RMSE : {rmse:.2f}\")\n",
    "print(f\"R² : {r2:.3f}\")\n",
    "print(f\"Nombre de variables (num + dummies) : {X.shape[1]}\")\n"
   ]
  },
  {
   "cell_type": "code",
   "execution_count": 83,
   "id": "d73ba749",
   "metadata": {},
   "outputs": [
    {
     "name": "stdout",
     "output_type": "stream",
     "text": [
      "MAE : 8482333.96\n",
      "RMSE : 135710190689703.83\n",
      "R² : 0.590\n",
      "Nombre de variables (num + dummies) : 30\n"
     ]
    }
   ],
   "source": [
    "from sklearn.linear_model import LinearRegression\n",
    "from sklearn.metrics import mean_absolute_error, mean_squared_error, r2_score\n",
    "\n",
    "# Use already defined data and selected_columns\n",
    "df = data[selected_columns].dropna()\n",
    "\n",
    "# Define features and target\n",
    "X = df\n",
    "y = data['market_value'].loc[df.index]\n",
    "\n",
    "# Split train/test\n",
    "X_train, X_test, y_train, y_test = train_test_split(X, y, test_size=0.2, random_state=42)\n",
    "\n",
    "# Train model\n",
    "model = LinearRegression()\n",
    "model.fit(X_train, y_train)\n",
    "\n",
    "# Predictions and evaluation\n",
    "y_pred = model.predict(X_test)\n",
    "\n",
    "mae = mean_absolute_error(y_test, y_pred)\n",
    "rmse = mean_squared_error(y_test, y_pred)\n",
    "r2 = r2_score(y_test, y_pred)\n",
    "\n",
    "print(f\"MAE : {mae:.2f}\")\n",
    "print(f\"RMSE : {rmse:.2f}\")\n",
    "print(f\"R² : {r2:.3f}\")\n",
    "print(f\"Nombre de variables (num + dummies) : {X.shape[1]}\")\n"
   ]
  },
  {
   "cell_type": "code",
   "execution_count": null,
   "id": "2e5bdb7b",
   "metadata": {},
   "outputs": [],
   "source": []
  }
 ],
 "metadata": {
  "kernelspec": {
   "display_name": "Python 3",
   "language": "python",
   "name": "python3"
  },
  "language_info": {
   "codemirror_mode": {
    "name": "ipython",
    "version": 3
   },
   "file_extension": ".py",
   "mimetype": "text/x-python",
   "name": "python",
   "nbconvert_exporter": "python",
   "pygments_lexer": "ipython3",
   "version": "3.9.6"
  }
 },
 "nbformat": 4,
 "nbformat_minor": 5
}
