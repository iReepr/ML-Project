{
 "cells": [
  {
   "cell_type": "markdown",
   "id": "b0e76ac6",
   "metadata": {},
   "source": [
    "# Import"
   ]
  },
  {
   "cell_type": "code",
   "execution_count": 1,
   "id": "fce1652e",
   "metadata": {},
   "outputs": [],
   "source": [
    "import pandas as pd\n",
    "from sklearn.ensemble import RandomForestRegressor\n",
    "from sklearn.linear_model import Ridge\n",
    "from sklearn.model_selection import train_test_split,cross_val_score\n",
    "from sklearn.metrics import mean_squared_error, r2_score, mean_absolute_error\n",
    "from sklearn.feature_selection import f_regression\n",
    "import numpy as np\n",
    "from sklearn.model_selection import GridSearchCV"
   ]
  },
  {
   "cell_type": "markdown",
   "id": "a61f7e79",
   "metadata": {},
   "source": [
    "# Load the data"
   ]
  },
  {
   "cell_type": "code",
   "execution_count": 2,
   "id": "f13ad6ba",
   "metadata": {},
   "outputs": [],
   "source": [
    "data = pd.read_csv('merged_data_clean.csv')\n",
    "data.dropna(subset=[\"market_value\"], inplace=True)"
   ]
  },
  {
   "cell_type": "markdown",
   "id": "f7a5047b",
   "metadata": {},
   "source": [
    "# Clean the data\n"
   ]
  },
  {
   "cell_type": "code",
   "execution_count": 3,
   "id": "d824f7f1",
   "metadata": {},
   "outputs": [],
   "source": [
    "continent_mapping = {\n",
    "    'ENG': 'Europe', 'ESP': 'Europe', 'IRL': 'Europe', 'FRA': 'Europe', 'MAR': 'Africa',\n",
    "    'ALG': 'Africa', 'EGY': 'Africa', 'TUN': 'Africa', 'KSA': 'Asia', 'DEN': 'Europe',\n",
    "    'BRA': 'South America', 'ITA': 'Europe', 'NGA': 'Africa', 'SCO': 'Europe', 'USA': 'North America',\n",
    "    'AUT': 'Europe', 'GER': 'Europe', 'CIV': 'Africa', 'MNE': 'Europe', 'SUI': 'Europe',\n",
    "    'SWE': 'Europe', 'GHA': 'Africa', 'NOR': 'Europe', 'ROU': 'Europe', 'NED': 'Europe',\n",
    "    'ARG': 'South America', 'PAR': 'South America', 'GAB': 'Africa', 'POR': 'Europe', 'MEX': 'North America',\n",
    "    'SEN': 'Africa', 'PAN': 'North America', 'PUR': 'North America', 'JAM': 'North America', 'URU': 'South America',\n",
    "    'VEN': 'South America', 'HAI': 'North America', 'ISL': 'Europe', 'JPN': 'Asia', 'ALB': 'Europe',\n",
    "    'COL': 'South America', 'TOG': 'Africa', 'IDN': 'Asia', 'GUI': 'Africa', 'CRO': 'Europe',\n",
    "    'SLE': 'Africa', 'CAN': 'North America', 'COD': 'Africa', 'CMR': 'Africa', 'HUN': 'Europe',\n",
    "    'ZAM': 'Africa', 'CZE': 'Europe', 'BEL': 'Europe', 'TUR': 'Asia', 'SUR': 'South America',\n",
    "    'POL': 'Europe', 'SVK': 'Europe', 'GNB': 'Africa', 'SVN': 'Europe', 'MLI': 'Africa',\n",
    "    'NIR': 'Europe', 'SRB': 'Europe', 'CHI': 'South America', 'WAL': 'Europe', 'AUS': 'Oceania',\n",
    "    'NZL': 'Oceania', 'ECU': 'South America', 'LUX': 'Europe', 'GAM': 'Africa', 'CGO': 'Africa',\n",
    "    'BAN': 'Asia', 'EQG': 'Africa', 'CPV': 'Africa', 'GEO': 'Asia', 'MTQ': 'North America',\n",
    "    'BIH': 'Europe', 'MKD': 'Europe', 'BFA': 'Africa', 'GRE': 'Europe', 'UKR': 'Europe',\n",
    "    'CRC': 'North America', 'LTU': 'Europe', 'RUS': 'Europe', 'DOM': 'North America', 'IRQ': 'Asia',\n",
    "    'KOR': 'Asia', 'PHI': 'Asia', 'BEN': 'Africa', 'FIN': 'Europe', 'EST': 'Europe',\n",
    "    'ZIM': 'Africa', 'ISR': 'Asia', 'CYP': 'Asia', 'UZB': 'Asia', 'ANG': 'Africa',\n",
    "    'CTA': 'Africa', 'GLP': 'North America', 'MAD': 'Africa', 'PER': 'South America',\n",
    "    'GUF': 'South America', 'MOZ': 'Africa', 'ARM': 'Asia', 'KVX': 'Europe', 'LBY': 'Africa',\n",
    "    'BDI': 'Africa', 'KEN': 'Africa', 'COM': 'Africa', 'MDA': 'Europe', 'MSR': 'North America',\n",
    "    'JOR': 'Asia', 'IRN': 'Asia', 'MLT': 'Europe'\n",
    "}\n",
    "def get_continent_from_alpha3(country_alpha3):\n",
    "    return continent_mapping.get(country_alpha3, None)\n",
    "data['continent'] = data[\"Nation\"].apply(lambda x: get_continent_from_alpha3(x.split(\" \")[-1]) if pd.notna(x) else None)"
   ]
  },
  {
   "cell_type": "code",
   "execution_count": 4,
   "id": "4798e185",
   "metadata": {},
   "outputs": [],
   "source": [
    "data.drop(columns=['Nation'],inplace=True)"
   ]
  },
  {
   "cell_type": "code",
   "execution_count": 5,
   "id": "653871ef",
   "metadata": {},
   "outputs": [],
   "source": [
    "data = data[data['Pos'] != 'GK']\n",
    "cols_to_drop = [col for col in data.columns if \"stats_keeper\" in col or \"GK\" in col or \"(GK)\" in col]\n",
    "data.drop(columns=cols_to_drop, inplace=True)\n",
    "gk_cols = [\n",
    "    \"PSxG+/-\", \"CS\", \"Stp%\", \"Launch%\", \"Save%\", \"Saves\", \"CS%\", \"AvgDist\",\n",
    "    \"GA90\", \"GA\", \"Thr\", \"D\", \"PSxG\", \"SoTA\", \"AvgLen\", \"Stp\", \"/90\",\n",
    "    \"PSxG/SoT\", \"#OPA\", \"PKm\", \"PKsv\", \"#OPA/90\", \"PKA\", \"Opp\",\"W\",\"L\"\n",
    "]\n",
    "data.drop(columns=gk_cols, inplace=True)\n",
    "\n",
    "\n"
   ]
  },
  {
   "cell_type": "code",
   "execution_count": 6,
   "id": "42027f74",
   "metadata": {},
   "outputs": [],
   "source": [
    "data[\"preferred_foot\"] = data[\"preferred_foot\"].map({\"Right\": 1, \"Left\": 0})"
   ]
  },
  {
   "cell_type": "code",
   "execution_count": 7,
   "id": "d5f2f0c8",
   "metadata": {},
   "outputs": [],
   "source": [
    "data.drop([\"normalized_player\", \"normalized_full_name\", \"full_name\", \"dob\", \"Age\", \"birth_year_y\", \"Player\", \"Squad\", \"Comp\", \"last_evaluation\"], axis=1, inplace=True)"
   ]
  },
  {
   "cell_type": "code",
   "execution_count": 8,
   "id": "04dc4c39",
   "metadata": {},
   "outputs": [],
   "source": [
    "columns_to_drop = [col for col in data.columns if \"Pos\" in col and col != \"Pos\"]\n",
    "data.drop(columns=columns_to_drop, inplace=True)"
   ]
  },
  {
   "cell_type": "code",
   "execution_count": 9,
   "id": "65d9a36a",
   "metadata": {},
   "outputs": [],
   "source": [
    "columns_to_drop = [col for col in data.columns if \"Nation\" in col and col != \"Nation\"]\n",
    "data.drop(columns=columns_to_drop, inplace=True)"
   ]
  },
  {
   "cell_type": "code",
   "execution_count": 10,
   "id": "f6867307",
   "metadata": {},
   "outputs": [],
   "source": [
    "columns_to_drop = [col for col in data.columns if \"Comp\" in col and col != \"Comp\"]\n",
    "data.drop(columns=columns_to_drop, inplace=True)"
   ]
  },
  {
   "cell_type": "code",
   "execution_count": 11,
   "id": "4f15a4fc",
   "metadata": {},
   "outputs": [],
   "source": [
    "from datetime import datetime\n",
    "import pandas as pd\n",
    "\n",
    "def extract_year(val):\n",
    "    try:\n",
    "        # Si c'est une année au format \"2027\", convertir directement\n",
    "        if str(val).isdigit():\n",
    "            return int(val)\n",
    "        # Essayer de parser une date complète (ex: \"Jun 30, 2025\")\n",
    "        date = pd.to_datetime(val, errors='coerce')\n",
    "        if pd.isna(date):\n",
    "            return None\n",
    "        return date.year\n",
    "    except:\n",
    "        return None\n",
    "\n",
    "# Appliquer la fonction à chaque ligne\n",
    "data['contract_year'] = data['club_contract_valid_until'].apply(extract_year)\n",
    "\n",
    "current_year = 2025\n",
    "data['years_left'] = data['contract_year'] - current_year\n",
    "data.drop(columns=['club_contract_valid_until', 'contract_year'], inplace=True)\n",
    "data.dropna(subset=['years_left'], inplace=True)\n"
   ]
  },
  {
   "cell_type": "code",
   "execution_count": 12,
   "id": "442c95d6",
   "metadata": {},
   "outputs": [],
   "source": [
    "columns_to_drop = [col for col in data.columns if \"Age\" in col]\n",
    "data.drop(columns=columns_to_drop, inplace=True)"
   ]
  },
  {
   "cell_type": "code",
   "execution_count": 13,
   "id": "2a75bc73",
   "metadata": {},
   "outputs": [],
   "source": [
    "data = data.assign(Pos=data[\"Pos\"].str.split(\",\")).explode(\"Pos\").reset_index(drop=True)"
   ]
  },
  {
   "cell_type": "code",
   "execution_count": 14,
   "id": "3529f0fb",
   "metadata": {},
   "outputs": [],
   "source": [
    "data = pd.get_dummies(data, columns=[\"Pos\",\"continent\"], prefix=[\"Pos\",\"continent\"], drop_first=True)"
   ]
  },
  {
   "cell_type": "code",
   "execution_count": 15,
   "id": "2ea2870d",
   "metadata": {},
   "outputs": [],
   "source": [
    "cols_to_drop_90 = [\n",
    "    col for col in data.columns\n",
    "    if '/90' in col or '90s_' in col or col.endswith('90')\n",
    "]\n",
    "data.drop(columns=cols_to_drop_90, inplace=True)\n",
    "\n",
    "\n"
   ]
  },
  {
   "cell_type": "code",
   "execution_count": 16,
   "id": "2bdc7bc4",
   "metadata": {},
   "outputs": [
    {
     "name": "stdout",
     "output_type": "stream",
     "text": [
      "2369 échantillons, 178 features\n",
      "Ratio samples/features : 13.31\n"
     ]
    }
   ],
   "source": [
    "n_samples, n_features = data.shape\n",
    "print(f\"{n_samples} échantillons, {n_features} features\")\n",
    "print(f\"Ratio samples/features : {n_samples / n_features:.2f}\")\n",
    "\n"
   ]
  },
  {
   "cell_type": "markdown",
   "id": "6cc7bad2",
   "metadata": {},
   "source": [
    "| Catégorie                     | Exemples de colonnes conservées                                                | Description / Rôle dans la modélisation                                               |\n",
    "|------------------------------|----------------------------------------------------------------------------------|----------------------------------------------------------------------------------------|\n",
    "| Variable cible                | `market_value`                                                                 | Valeur marchande à prédire (variable de régression).                                  |\n",
    "| Identité / Caractéristiques  | `height_cm`, `weight_kg`, `preferred_foot`, `weak_foot`, `birth_year_x`        | Données démographiques et morphologiques du joueur.                                   |\n",
    "| Contrat / Mise à jour        | `years_left`, `value_updated`                                                  | Informations contractuelles : durée restante, date de mise à jour.                   |\n",
    "| Temps de jeu                 | `Min`, `MP`, `Starts`, `Subs`, `Mn/MP`, `Mn/Start`, `Mn/Sub`, `Min%`, `unSub`   | Quantité et répartition du temps de jeu.                                               |\n",
    "| Position (one-hot)           | `Pos_DF,MF`, `Pos_FW`, `Pos_MF`, etc.                                           | Postes joués, encodés en variables binaires.                                           |\n",
    "| Productivité offensive       | `Gls`, `G/Sh`, `G/SoT`, `G-xG`, `xG`, `xA`, `xAG`, `npxG`, `npxG+xAG`, `xG+xAG` | Capacité à marquer et transformer les occasions.                                      |\n",
    "| Création d’occasions         | `Ast`, `SCA`, `GCA`, `KP`, `A-xAG`                                              | Création de buts et d’actions dangereuses pour l’équipe.                              |\n",
    "| Jeu de passes                | `Pass`, `Cmp`, `Cmp%`, `PrgP`, `PassLive`, `PassDead`, `Cmp_stats_passing_types`| Qualité de passe, volume et précision, passes progressives.                           |\n",
    "| Conduite / progression       | `Carries`, `Succ`, `Succ%`, `Dist`, `TotDist`, `PrgC`, `PrgR`, `PrgDist`, `Rec`, `Recov`, `Touches` | Conduites de balle, distance parcourue, récupération.                         |\n",
    "| Défense / Duels              | `Tkl`, `Tkl%`, `Tkl+Int`, `TklW`, `Tkld`, `Tkld%`, `Won`, `Won%`, `Blocks`, `Int`, `Clr`, `Dis` | Engagement défensif, tacles, interceptions, duels.                           |\n",
    "| Zones du terrain             | `Att`, `Mid 3rd`, `Def 3rd`, `Att Pen`, `Def Pen`, `1/3`, `PPA`                 | Zones d’intervention préférentielles sur le terrain.                                 |\n",
    "| Phases / Types d’actions     | `Live`, `Dead`, `CK`, `CPA`, `FK`, `PK`, `PKatt`, `PKwon`, `PKcon`, `TI`, `TO`, `TB`, `Sw` | Types d’actions (jeux arrêtés, penalties, remises en jeu).                      |\n",
    "| Discipline / Événements      | `CrdY`, `CrdR`, `Fls`, `Fld`, `OG`, `Off`, `On-Off`, `Lost`, `Mis`, `Err`       | Discipline, fautes, erreurs, impact global sur l’équipe.                              |\n",
    "| Statistiques avancées        | `G+A`, `G+A-PK`, `G-PK`, `np:G-xG`, `xG+/-`, `+/-`                               | Indicateurs combinés et différentiels de performance.                                 |\n",
    "| Références techniques        | `Rk`, `Born`, `MP_stats_playing_time`, `Min_stats_playing_time`, `Rk_stats_*`   | Colonnes liées à l’origine ou des statistiques de référence internes.                |\n"
   ]
  },
  {
   "cell_type": "markdown",
   "id": "6d4672d2",
   "metadata": {},
   "source": [
    "# Baseline"
   ]
  },
  {
   "cell_type": "code",
   "execution_count": 17,
   "id": "eb831307",
   "metadata": {},
   "outputs": [
    {
     "name": "stdout",
     "output_type": "stream",
     "text": [
      "G/SoT       0.205150\n",
      "Mn/Start    0.097932\n",
      "npxG/Sh     0.075981\n",
      "Dist        0.075981\n",
      "SoT%        0.075981\n",
      "G/Sh        0.075981\n",
      "Mn/Sub      0.074293\n",
      "Succ%       0.064162\n",
      "Tkld%       0.064162\n",
      "Tkl%        0.059941\n",
      "Won%        0.038835\n",
      "Cmp%        0.002955\n",
      "On-Off      0.001688\n",
      "dtype: float64\n"
     ]
    }
   ],
   "source": [
    "nan_ratio = data.isna().mean().sort_values(ascending=False)\n",
    "print(nan_ratio[nan_ratio > 0])  # Colonnes concernées"
   ]
  },
  {
   "cell_type": "code",
   "execution_count": 18,
   "id": "c8595495",
   "metadata": {},
   "outputs": [
    {
     "data": {
      "text/plain": [
       "(2369, 178)"
      ]
     },
     "execution_count": 18,
     "metadata": {},
     "output_type": "execute_result"
    }
   ],
   "source": [
    "data.shape"
   ]
  },
  {
   "cell_type": "code",
   "execution_count": 19,
   "id": "1ff351a1",
   "metadata": {},
   "outputs": [
    {
     "name": "stdout",
     "output_type": "stream",
     "text": [
      "Nombre de lignes supprimées : 708\n",
      "Nombre de lignes restantes : 1661\n"
     ]
    }
   ],
   "source": [
    "# Créer une copie du DataFrame sans les lignes contenant des NaN\n",
    "data_no_nan = data.dropna()\n",
    "nb_lignes_supprimees = len(data) - len(data_no_nan)\n",
    "print(f\"Nombre de lignes supprimées : {nb_lignes_supprimees}\")\n",
    "print(f\"Nombre de lignes restantes : {len(data_no_nan)}\")"
   ]
  },
  {
   "cell_type": "code",
   "execution_count": 20,
   "id": "d83a3800",
   "metadata": {},
   "outputs": [
    {
     "name": "stdout",
     "output_type": "stream",
     "text": [
      "1661 échantillons, 178 features\n",
      "Ratio samples/features : 9.33\n"
     ]
    }
   ],
   "source": [
    "n_samples, n_features = data_no_nan.shape\n",
    "print(f\"{n_samples} échantillons, {n_features} features\")\n",
    "print(f\"Ratio samples/features : {n_samples / n_features:.2f}\")\n",
    "\n"
   ]
  },
  {
   "cell_type": "code",
   "execution_count": 21,
   "id": "3d4496e1",
   "metadata": {},
   "outputs": [],
   "source": [
    "X = data_no_nan.drop(columns=['market_value'])\n",
    "y = data_no_nan['market_value']\n",
    "X_train, X_test, y_train, y_test = train_test_split(X, y,random_state=42, test_size=0.1)"
   ]
  },
  {
   "cell_type": "code",
   "execution_count": 22,
   "id": "51ca9692",
   "metadata": {},
   "outputs": [
    {
     "name": "stdout",
     "output_type": "stream",
     "text": [
      "140 features significatives sur 177\n"
     ]
    },
    {
     "name": "stderr",
     "output_type": "stream",
     "text": [
      "/var/folders/yx/8cyn8k8d22v0l12gqb0cfk100000gn/T/ipykernel_29531/3671703684.py:1: FutureWarning: Series.ravel is deprecated. The underlying array is already 1D, so ravel is not necessary.  Use `to_numpy()` for conversion to a numpy array instead.\n",
      "  f_vals, p_vals = f_regression(X_train, y_train.ravel())\n"
     ]
    }
   ],
   "source": [
    "\n",
    "\n",
    "f_vals, p_vals = f_regression(X_train, y_train.ravel())\n",
    "\n",
    "significant = p_vals < 0.05\n",
    "print(f\"{significant.sum()} features significatives sur {len(p_vals)}\")\n"
   ]
  },
  {
   "cell_type": "code",
   "execution_count": 23,
   "id": "87dff39f",
   "metadata": {},
   "outputs": [
    {
     "name": "stdout",
     "output_type": "stream",
     "text": [
      "R² moyen (5-fold CV) : 0.635 ± 0.035\n",
      "R² sur le test : 0.547\n",
      "RMSE sur le test : 129779808.74 M€\n",
      "MAE sur le test  : 8.63 M€\n"
     ]
    }
   ],
   "source": [
    "from sklearn.linear_model import Ridge\n",
    "from sklearn.model_selection import cross_val_score\n",
    "from sklearn.metrics import mean_squared_error, mean_absolute_error, r2_score\n",
    "import numpy as np\n",
    "\n",
    "# Entraînement + CV\n",
    "ridge = Ridge()\n",
    "scores = cross_val_score(ridge, X_train, y_train, cv=5, scoring='r2')\n",
    "print(f\"R² moyen (5-fold CV) : {scores.mean():.3f} ± {scores.std():.3f}\")\n",
    "\n",
    "# Fit sur tout le train\n",
    "ridge.fit(X_train, y_train)\n",
    "\n",
    "y_pred = ridge.predict(X_test)\n",
    "\n",
    "# Scores sur échelle réelle\n",
    "r2 = r2_score(y_test, y_pred)\n",
    "rmse = mean_squared_error(y_test, y_pred)\n",
    "mae = mean_absolute_error(y_test, y_pred)\n",
    "\n",
    "print(f\"R² sur le test : {r2:.3f}\")\n",
    "print(f\"RMSE sur le test : {rmse/1e6:.2f} M€\")\n",
    "print(f\"MAE sur le test  : {mae/1e6:.2f} M€\")\n"
   ]
  },
  {
   "cell_type": "code",
   "execution_count": 24,
   "id": "46408719",
   "metadata": {},
   "outputs": [
    {
     "name": "stderr",
     "output_type": "stream",
     "text": [
      "/Users/alexisletrung/Library/Python/3.9/lib/python/site-packages/sklearn/linear_model/_ridge.py:215: LinAlgWarning: Ill-conditioned matrix (rcond=6.43331e-17): result may not be accurate.\n",
      "  return linalg.solve(A, Xy, assume_a=\"pos\", overwrite_a=True).T\n",
      "/Users/alexisletrung/Library/Python/3.9/lib/python/site-packages/sklearn/linear_model/_ridge.py:215: LinAlgWarning: Ill-conditioned matrix (rcond=6.49736e-17): result may not be accurate.\n",
      "  return linalg.solve(A, Xy, assume_a=\"pos\", overwrite_a=True).T\n",
      "/Users/alexisletrung/Library/Python/3.9/lib/python/site-packages/sklearn/linear_model/_ridge.py:215: LinAlgWarning: Ill-conditioned matrix (rcond=6.55801e-17): result may not be accurate.\n",
      "  return linalg.solve(A, Xy, assume_a=\"pos\", overwrite_a=True).T\n",
      "/Users/alexisletrung/Library/Python/3.9/lib/python/site-packages/sklearn/linear_model/_ridge.py:215: LinAlgWarning: Ill-conditioned matrix (rcond=6.02092e-17): result may not be accurate.\n",
      "  return linalg.solve(A, Xy, assume_a=\"pos\", overwrite_a=True).T\n",
      "/Users/alexisletrung/Library/Python/3.9/lib/python/site-packages/sklearn/linear_model/_ridge.py:215: LinAlgWarning: Ill-conditioned matrix (rcond=6.56181e-17): result may not be accurate.\n",
      "  return linalg.solve(A, Xy, assume_a=\"pos\", overwrite_a=True).T\n"
     ]
    },
    {
     "name": "stdout",
     "output_type": "stream",
     "text": [
      "Meilleur alpha : 1000\n",
      "Meilleur score (r2, CV) : 0.6408964000370156\n",
      "R² sur le test : 0.563\n",
      "RMSE sur le test : 125032851.55 M€\n",
      "MAE sur le test  : 8.35 M€\n"
     ]
    }
   ],
   "source": [
    "from sklearn.model_selection import GridSearchCV\n",
    "\n",
    "# Définir la grille de paramètres pour Ridge\n",
    "param_grid = {\n",
    "    'alpha': [0.01, 0.1, 1, 10, 100, 1000,2000, 5000, 10000, 20000, 50000, 100000]\n",
    "}\n",
    "\n",
    "ridge = Ridge()\n",
    "grid_search = GridSearchCV(\n",
    "    ridge,\n",
    "    param_grid,\n",
    "    cv=5,\n",
    "    scoring='r2',\n",
    "    n_jobs=-1\n",
    ")\n",
    "grid_search.fit(X_train, y_train)\n",
    "\n",
    "print(\"Meilleur alpha :\", grid_search.best_params_['alpha'])\n",
    "print(\"Meilleur score (r2, CV) :\", grid_search.best_score_)\n",
    "\n",
    "# Prédictions sur le test set avec le meilleur modèle\n",
    "best_ridge = grid_search.best_estimator_\n",
    "y_pred = best_ridge.predict(X_test)\n",
    "\n",
    "mae = mean_absolute_error(y_test, y_pred)\n",
    "rmse = mean_squared_error(y_test, y_pred)\n",
    "r2 = r2_score(y_test, y_pred)\n",
    "\n",
    "print(f\"R² sur le test : {r2:.3f}\")\n",
    "print(f\"RMSE sur le test : {rmse/1e6:.2f} M€\")\n",
    "print(f\"MAE sur le test  : {mae/1e6:.2f} M€\")\n"
   ]
  },
  {
   "cell_type": "markdown",
   "id": "a3208bfc",
   "metadata": {},
   "source": [
    "# On limite les grandes valeurs marchandes\n"
   ]
  },
  {
   "cell_type": "code",
   "execution_count": 25,
   "id": "7a731dbd",
   "metadata": {},
   "outputs": [
    {
     "name": "stderr",
     "output_type": "stream",
     "text": [
      "/Users/alexisletrung/Library/Python/3.9/lib/python/site-packages/sklearn/linear_model/_ridge.py:215: LinAlgWarning: Ill-conditioned matrix (rcond=6.02092e-17): result may not be accurate.\n",
      "  return linalg.solve(A, Xy, assume_a=\"pos\", overwrite_a=True).T\n",
      "/Users/alexisletrung/Library/Python/3.9/lib/python/site-packages/sklearn/linear_model/_ridge.py:215: LinAlgWarning: Ill-conditioned matrix (rcond=6.43331e-17): result may not be accurate.\n",
      "  return linalg.solve(A, Xy, assume_a=\"pos\", overwrite_a=True).T\n",
      "/Users/alexisletrung/Library/Python/3.9/lib/python/site-packages/sklearn/linear_model/_ridge.py:215: LinAlgWarning: Ill-conditioned matrix (rcond=6.49736e-17): result may not be accurate.\n",
      "  return linalg.solve(A, Xy, assume_a=\"pos\", overwrite_a=True).T\n",
      "/Users/alexisletrung/Library/Python/3.9/lib/python/site-packages/sklearn/linear_model/_ridge.py:215: LinAlgWarning: Ill-conditioned matrix (rcond=6.55801e-17): result may not be accurate.\n",
      "  return linalg.solve(A, Xy, assume_a=\"pos\", overwrite_a=True).T\n",
      "/Users/alexisletrung/Library/Python/3.9/lib/python/site-packages/sklearn/linear_model/_ridge.py:215: LinAlgWarning: Ill-conditioned matrix (rcond=6.56181e-17): result may not be accurate.\n",
      "  return linalg.solve(A, Xy, assume_a=\"pos\", overwrite_a=True).T\n"
     ]
    },
    {
     "name": "stdout",
     "output_type": "stream",
     "text": [
      "Meilleur alpha : 10\n",
      "Meilleur score (r2, CV) : 0.7218825513947816\n",
      "R² sur le test : 0.645\n",
      "RMSE sur le test : 101649947.78 M€\n",
      "MAE sur le test  : 5.36 M€\n"
     ]
    }
   ],
   "source": [
    "\n",
    "param_grid = {\n",
    "    'alpha': [0.01, 0.1, 1, 10, 100, 1000,2000, 5000, 10000, 20000, 50000, 100000]\n",
    "}\n",
    "\n",
    "ridge = Ridge()\n",
    "grid_search = GridSearchCV(\n",
    "    ridge,\n",
    "    param_grid,\n",
    "    cv=5,\n",
    "    scoring='r2',\n",
    "    n_jobs=-1\n",
    ")\n",
    "grid_search.fit(X_train, np.log1p(y_train))\n",
    "\n",
    "print(\"Meilleur alpha :\", grid_search.best_params_['alpha'])\n",
    "print(\"Meilleur score (r2, CV) :\", grid_search.best_score_)\n",
    "\n",
    "# Prédictions sur le test set avec le meilleur modèle\n",
    "best_ridge = grid_search.best_estimator_\n",
    "y_pred = np.expm1(best_ridge.predict(X_test))\n",
    "\n",
    "mae = mean_absolute_error(y_test, y_pred)\n",
    "rmse = mean_squared_error(y_test, y_pred)\n",
    "r2 = r2_score(y_test, y_pred)\n",
    "\n",
    "print(f\"R² sur le test : {r2:.3f}\")\n",
    "print(f\"RMSE sur le test : {rmse/1e6:.2f} M€\")\n",
    "print(f\"MAE sur le test  : {mae/1e6:.2f} M€\")\n"
   ]
  },
  {
   "cell_type": "code",
   "execution_count": null,
   "id": "e2831ad8",
   "metadata": {},
   "outputs": [
    {
     "data": {
      "image/png": "[encoded data removed]",
      "text/plain": [
       "<Figure size 1000x500 with 1 Axes>"
      ]
     },
     "metadata": {},
     "output_type": "display_data"
    }
   ],
   "source": []
  },
  {
   "cell_type": "markdown",
   "id": "c84f8b56",
   "metadata": {},
   "source": [
    "## On teste en clippant"
   ]
  },
  {
   "cell_type": "code",
   "execution_count": 26,
   "id": "37c98897",
   "metadata": {},
   "outputs": [],
   "source": [
    "y_train_clipped = np.clip(y_train, 0, 35000000)\n",
    "y_test_clipped = np.clip(y_test, 0, 35000000)\n"
   ]
  },
  {
   "cell_type": "code",
   "execution_count": 27,
   "id": "d5204b13",
   "metadata": {},
   "outputs": [
    {
     "name": "stderr",
     "output_type": "stream",
     "text": [
      "/Users/alexisletrung/Library/Python/3.9/lib/python/site-packages/sklearn/linear_model/_ridge.py:215: LinAlgWarning: Ill-conditioned matrix (rcond=6.43331e-17): result may not be accurate.\n",
      "  return linalg.solve(A, Xy, assume_a=\"pos\", overwrite_a=True).T\n",
      "/Users/alexisletrung/Library/Python/3.9/lib/python/site-packages/sklearn/linear_model/_ridge.py:215: LinAlgWarning: Ill-conditioned matrix (rcond=6.02092e-17): result may not be accurate.\n",
      "  return linalg.solve(A, Xy, assume_a=\"pos\", overwrite_a=True).T\n",
      "/Users/alexisletrung/Library/Python/3.9/lib/python/site-packages/sklearn/linear_model/_ridge.py:215: LinAlgWarning: Ill-conditioned matrix (rcond=6.49736e-17): result may not be accurate.\n",
      "  return linalg.solve(A, Xy, assume_a=\"pos\", overwrite_a=True).T\n",
      "/Users/alexisletrung/Library/Python/3.9/lib/python/site-packages/sklearn/linear_model/_ridge.py:215: LinAlgWarning: Ill-conditioned matrix (rcond=6.55801e-17): result may not be accurate.\n",
      "  return linalg.solve(A, Xy, assume_a=\"pos\", overwrite_a=True).T\n",
      "/Users/alexisletrung/Library/Python/3.9/lib/python/site-packages/sklearn/linear_model/_ridge.py:215: LinAlgWarning: Ill-conditioned matrix (rcond=6.56181e-17): result may not be accurate.\n",
      "  return linalg.solve(A, Xy, assume_a=\"pos\", overwrite_a=True).T\n"
     ]
    },
    {
     "name": "stdout",
     "output_type": "stream",
     "text": [
      "Meilleur alpha : 10\n",
      "Meilleur score (r2, CV) : 0.6500843721917428\n",
      "R² sur le test : 0.655\n",
      "RMSE sur le test : 44449002.71 M€\n",
      "MAE sur le test  : 5.19 M€\n"
     ]
    }
   ],
   "source": [
    "from sklearn.model_selection import GridSearchCV\n",
    "\n",
    "# Définir la grille de paramètres pour Ridge\n",
    "param_grid = {\n",
    "    'alpha': [0.01, 0.1, 1, 10, 100, 1000,2000, 5000, 10000, 20000, 50000, 100000]\n",
    "}\n",
    "\n",
    "ridge = Ridge()\n",
    "grid_search = GridSearchCV(\n",
    "    ridge,\n",
    "    param_grid,\n",
    "    cv=5,\n",
    "    scoring='r2',\n",
    "    n_jobs=-1\n",
    ")\n",
    "grid_search.fit(X_train, y_train_clipped)\n",
    "\n",
    "print(\"Meilleur alpha :\", grid_search.best_params_['alpha'])\n",
    "print(\"Meilleur score (r2, CV) :\", grid_search.best_score_)\n",
    "\n",
    "# Prédictions sur le test set avec le meilleur modèle\n",
    "best_ridge = grid_search.best_estimator_\n",
    "y_pred = best_ridge.predict(X_test)\n",
    "\n",
    "mae = mean_absolute_error(y_test_clipped, y_pred)\n",
    "rmse = mean_squared_error(y_test_clipped, y_pred)\n",
    "r2 = r2_score(y_test_clipped, y_pred)\n",
    "\n",
    "print(f\"R² sur le test : {r2:.3f}\")\n",
    "print(f\"RMSE sur le test : {rmse/1e6:.2f} M€\")\n",
    "print(f\"MAE sur le test  : {mae/1e6:.2f} M€\")\n"
   ]
  },
  {
   "cell_type": "markdown",
   "id": "9be8f019",
   "metadata": {},
   "source": [
    "# On teste les scalers"
   ]
  },
  {
   "cell_type": "code",
   "execution_count": 28,
   "id": "7dc23974",
   "metadata": {},
   "outputs": [
    {
     "name": "stdout",
     "output_type": "stream",
     "text": [
      "Meilleur alpha : 10\n",
      "Meilleur score (r2, CV) : 0.6404768098399402\n",
      "R² sur le test : 0.524\n",
      "RMSE sur le test : 136331891.89 M€\n",
      "MAE sur le test  : 8.64 M€\n"
     ]
    }
   ],
   "source": [
    "from sklearn.pipeline import Pipeline\n",
    "from sklearn.preprocessing import StandardScaler\n",
    "from sklearn.linear_model import Ridge\n",
    "from sklearn.model_selection import GridSearchCV\n",
    "from sklearn.metrics import mean_absolute_error, mean_squared_error, r2_score\n",
    "import numpy as np\n",
    "\n",
    "# Définir le pipeline Ridge avec standardisation\n",
    "pipeline = Pipeline([\n",
    "    ('scaler', StandardScaler()),\n",
    "    ('ridge', Ridge())\n",
    "])\n",
    "\n",
    "# Grille des paramètres pour Ridge (note le nom 'ridge__alpha' à cause du pipeline)\n",
    "param_grid = {\n",
    "    'ridge__alpha': [0.01, 0.1, 1, 10, 100, 1000, 2000, 5000, 10000, 20000, 50000, 100000]\n",
    "}\n",
    "\n",
    "# GridSearch avec CV à 5 folds\n",
    "grid_search = GridSearchCV(\n",
    "    estimator=pipeline,\n",
    "    param_grid=param_grid,\n",
    "    cv=5,\n",
    "    scoring='r2',\n",
    "    n_jobs=-1\n",
    ")\n",
    "\n",
    "# Entraînement avec target log-transformée\n",
    "grid_search.fit(X_train, y_train)\n",
    "\n",
    "# Meilleur modèle trouvé\n",
    "print(\"Meilleur alpha :\", grid_search.best_params_['ridge__alpha'])\n",
    "print(\"Meilleur score (r2, CV) :\", grid_search.best_score_)\n",
    "\n",
    "# Évaluation sur le test set\n",
    "y_pred = grid_search.predict(X_test) # inverse de log1p\n",
    "mae = mean_absolute_error(y_test, y_pred)\n",
    "rmse = mean_squared_error(y_test, y_pred)  # root MSE\n",
    "r2 = r2_score(y_test, y_pred)\n",
    "\n",
    "print(f\"R² sur le test : {r2:.3f}\")\n",
    "print(f\"RMSE sur le test : {rmse/1e6:.2f} M€\")\n",
    "print(f\"MAE sur le test  : {mae/1e6:.2f} M€\")\n",
    "\n",
    "\n"
   ]
  },
  {
   "cell_type": "code",
   "execution_count": 29,
   "id": "2e5bdb7b",
   "metadata": {},
   "outputs": [
    {
     "name": "stdout",
     "output_type": "stream",
     "text": [
      "Meilleur alpha : 10\n",
      "Meilleur score (r2, CV) : 0.6384368952811114\n",
      "R² sur le test : 0.507\n",
      "RMSE sur le test : 141011843.24 M€\n",
      "MAE sur le test  : 8.70 M€\n"
     ]
    }
   ],
   "source": [
    "from sklearn.pipeline import Pipeline\n",
    "from sklearn.preprocessing import RobustScaler\n",
    "from sklearn.linear_model import Ridge\n",
    "from sklearn.model_selection import GridSearchCV\n",
    "from sklearn.metrics import mean_absolute_error, mean_squared_error, r2_score\n",
    "import numpy as np\n",
    "\n",
    "# Définir le pipeline Ridge avec standardisation\n",
    "pipeline = Pipeline([\n",
    "    ('scaler', RobustScaler()),\n",
    "    ('ridge', Ridge())\n",
    "])\n",
    "\n",
    "# Grille des paramètres pour Ridge (note le nom 'ridge__alpha' à cause du pipeline)\n",
    "param_grid = {\n",
    "    'ridge__alpha': [0.01, 0.1, 1, 10, 100, 1000, 2000, 5000, 10000, 20000, 50000, 100000]\n",
    "}\n",
    "\n",
    "# GridSearch avec CV à 5 folds\n",
    "grid_search = GridSearchCV(\n",
    "    estimator=pipeline,\n",
    "    param_grid=param_grid,\n",
    "    cv=5,\n",
    "    scoring='r2',\n",
    "    n_jobs=-1\n",
    ")\n",
    "\n",
    "# Entraînement avec target log-transformée\n",
    "grid_search.fit(X_train, y_train)\n",
    "\n",
    "# Meilleur modèle trouvé\n",
    "print(\"Meilleur alpha :\", grid_search.best_params_['ridge__alpha'])\n",
    "print(\"Meilleur score (r2, CV) :\", grid_search.best_score_)\n",
    "\n",
    "# Évaluation sur le test set\n",
    "y_pred = grid_search.predict(X_test) # inverse de log1p\n",
    "mae = mean_absolute_error(y_test, y_pred)\n",
    "rmse = mean_squared_error(y_test, y_pred)  # root MSE\n",
    "r2 = r2_score(y_test, y_pred)\n",
    "\n",
    "print(f\"R² sur le test : {r2:.3f}\")\n",
    "print(f\"RMSE sur le test : {rmse/1e6:.2f} M€\")\n",
    "print(f\"MAE sur le test  : {mae/1e6:.2f} M€\")\n"
   ]
  },
  {
   "cell_type": "markdown",
   "id": "4d410d01",
   "metadata": {},
   "source": [
    "# De la merde apres\n"
   ]
  },
  {
   "cell_type": "code",
   "execution_count": 30,
   "id": "52c92537",
   "metadata": {},
   "outputs": [
    {
     "name": "stdout",
     "output_type": "stream",
     "text": [
      "Meilleur alpha : 1\n",
      "Meilleur score (r2, CV) : 0.7193136402165157\n",
      "R² sur le test : 0.625\n",
      "RMSE sur le test : 107251147.11 M€\n",
      "MAE sur le test  : 5.50 M€\n"
     ]
    }
   ],
   "source": [
    "from sklearn.pipeline import Pipeline\n",
    "from sklearn.preprocessing import RobustScaler,MinMaxScaler\n",
    "from sklearn.linear_model import Ridge\n",
    "from sklearn.model_selection import GridSearchCV\n",
    "from sklearn.metrics import mean_absolute_error, mean_squared_error, r2_score\n",
    "import numpy as np\n",
    "\n",
    "# Définir le pipeline Ridge avec standardisation\n",
    "pipeline = Pipeline([\n",
    "    ('scaler', StandardScaler()),\n",
    "    ('ridge', Ridge())\n",
    "])\n",
    "\n",
    "# Grille des paramètres pour Ridge (note le nom 'ridge__alpha' à cause du pipeline)\n",
    "param_grid = {\n",
    "    'ridge__alpha': [0.01, 0.1, 1, 10, 100, 1000, 2000, 5000, 10000, 20000, 50000, 100000]\n",
    "}\n",
    "\n",
    "# GridSearch avec CV à 5 folds\n",
    "grid_search = GridSearchCV(\n",
    "    estimator=pipeline,\n",
    "    param_grid=param_grid,\n",
    "    cv=5,\n",
    "    scoring='r2',\n",
    "    n_jobs=-1\n",
    ")\n",
    "\n",
    "# Entraînement avec target log-transformée\n",
    "grid_search.fit(X_train, np.log1p(y_train))\n",
    "\n",
    "# Meilleur modèle trouvé\n",
    "print(\"Meilleur alpha :\", grid_search.best_params_['ridge__alpha'])\n",
    "print(\"Meilleur score (r2, CV) :\", grid_search.best_score_)\n",
    "\n",
    "# Évaluation sur le test set\n",
    "y_pred = np.expm1(grid_search.predict(X_test)) # inverse de log1p\n",
    "mae = mean_absolute_error(y_test, y_pred)\n",
    "rmse = mean_squared_error(y_test, y_pred)  # root MSE\n",
    "r2 = r2_score(y_test, y_pred)\n",
    "\n",
    "print(f\"R² sur le test : {r2:.3f}\")\n",
    "print(f\"RMSE sur le test : {rmse/1e6:.2f} M€\")\n",
    "print(f\"MAE sur le test  : {mae/1e6:.2f} M€\")\n",
    "\n"
   ]
  },
  {
   "cell_type": "code",
   "execution_count": 31,
   "id": "cacc3307",
   "metadata": {},
   "outputs": [
    {
     "data": {
      "image/png": "[encoded data removed]",
      "text/plain": [
       "<Figure size 1000x500 with 1 Axes>"
      ]
     },
     "metadata": {},
     "output_type": "display_data"
    }
   ],
   "source": [
    "import matplotlib.pyplot as plt\n",
    "import numpy as np\n",
    "\n",
    "plt.figure(figsize=(10, 5))\n",
    "plt.hist(data['market_value'], bins=50, edgecolor='black')\n",
    "plt.title(\"Distribution log1p des valeurs marchandes\")\n",
    "plt.xlabel(\"log(Valeur marchande)\")\n",
    "plt.ylabel(\"Fréquence\")\n",
    "plt.grid(True)\n",
    "plt.show()\n"
   ]
  },
  {
   "cell_type": "code",
   "execution_count": 32,
   "id": "e62f3a70",
   "metadata": {},
   "outputs": [
    {
     "data": {
      "image/png": "[encoded data removed]",
      "text/plain": [
       "<Figure size 1000x500 with 1 Axes>"
      ]
     },
     "metadata": {},
     "output_type": "display_data"
    }
   ],
   "source": [
    "# Clipper au 99e percentile (valeur max ≈ 89.6M)\n",
    "cap = data['market_value'].quantile(0.99)\n",
    "data['market_value_clipped'] = data['market_value'].clip(upper=cap)    \n",
    "import matplotlib.pyplot as plt\n",
    "import numpy as np\n",
    "\n",
    "plt.figure(figsize=(10, 5))\n",
    "plt.hist(data['market_value_clipped'], bins=50, edgecolor='black')\n",
    "plt.title(\"Distribution log1p des valeurs marchandes\")\n",
    "plt.xlabel(\"log(Valeur marchande)\")\n",
    "plt.ylabel(\"Fréquence\")\n",
    "plt.grid(True)\n",
    "plt.show()\n"
   ]
  },
  {
   "cell_type": "code",
   "execution_count": 33,
   "id": "80200d24",
   "metadata": {
    "vscode": {
     "languageId": "ruby"
    }
   },
   "outputs": [],
   "source": [
    "# Utiliser la colonne 'market_value_clipped' comme cible\n",
    "X_clip = data_no_nan.drop(columns=['market_value', 'market_value_clipped'], errors='ignore')\n",
    "y_clip = data_no_nan['market_value_clipped'] if 'market_value_clipped' in data_no_nan else data.loc[data_no_nan.index, 'market_value_clipped']\n",
    "\n",
    "X_train_clip, X_test_clip, y_train_clip, y_test_clip = train_test_split(X_clip, y_clip, random_state=42, test_size=0.1)"
   ]
  },
  {
   "cell_type": "code",
   "execution_count": 34,
   "id": "56fe922f",
   "metadata": {},
   "outputs": [
    {
     "name": "stderr",
     "output_type": "stream",
     "text": [
      "/Users/alexisletrung/Library/Python/3.9/lib/python/site-packages/sklearn/linear_model/_ridge.py:215: LinAlgWarning: Ill-conditioned matrix (rcond=6.02092e-17): result may not be accurate.\n",
      "  return linalg.solve(A, Xy, assume_a=\"pos\", overwrite_a=True).T\n",
      "/Users/alexisletrung/Library/Python/3.9/lib/python/site-packages/sklearn/linear_model/_ridge.py:215: LinAlgWarning: Ill-conditioned matrix (rcond=6.43331e-17): result may not be accurate.\n",
      "  return linalg.solve(A, Xy, assume_a=\"pos\", overwrite_a=True).T\n",
      "/Users/alexisletrung/Library/Python/3.9/lib/python/site-packages/sklearn/linear_model/_ridge.py:215: LinAlgWarning: Ill-conditioned matrix (rcond=6.55801e-17): result may not be accurate.\n",
      "  return linalg.solve(A, Xy, assume_a=\"pos\", overwrite_a=True).T\n",
      "/Users/alexisletrung/Library/Python/3.9/lib/python/site-packages/sklearn/linear_model/_ridge.py:215: LinAlgWarning: Ill-conditioned matrix (rcond=6.49736e-17): result may not be accurate.\n",
      "  return linalg.solve(A, Xy, assume_a=\"pos\", overwrite_a=True).T\n",
      "/Users/alexisletrung/Library/Python/3.9/lib/python/site-packages/sklearn/linear_model/_ridge.py:215: LinAlgWarning: Ill-conditioned matrix (rcond=6.56181e-17): result may not be accurate.\n",
      "  return linalg.solve(A, Xy, assume_a=\"pos\", overwrite_a=True).T\n"
     ]
    },
    {
     "name": "stdout",
     "output_type": "stream",
     "text": [
      "Meilleur alpha : 100\n",
      "Meilleur score (r2, CV) : 0.6656038487207584\n",
      "Test MAE : 7514051.01\n",
      "Test RMSE : 100909295942508.36\n",
      "Test R² : 0.635\n"
     ]
    }
   ],
   "source": [
    "from sklearn.pipeline import Pipeline\n",
    "from sklearn.preprocessing import StandardScaler\n",
    "from sklearn.linear_model import Ridge\n",
    "from sklearn.model_selection import GridSearchCV\n",
    "from sklearn.metrics import mean_absolute_error, mean_squared_error, r2_score\n",
    "\n",
    "# Pipeline Ridge avec standardisation\n",
    "pipeline_clip = Pipeline([\n",
    "\n",
    "    ('ridge', Ridge())\n",
    "])\n",
    "\n",
    "# Grille de paramètres pour Ridge\n",
    "param_grid_clip = {\n",
    "    'ridge__alpha': [0.01, 0.1, 1, 10, 100, 1000, 2000, 5000, 10000, 20000, 50000, 100000]\n",
    "}\n",
    "\n",
    "# GridSearchCV\n",
    "grid_search_clip = GridSearchCV(\n",
    "    estimator=pipeline_clip,\n",
    "    param_grid=param_grid_clip,\n",
    "    cv=5,\n",
    "    scoring='r2',\n",
    "    n_jobs=-1\n",
    ")\n",
    "\n",
    "# Entraînement sur la cible \"market_value_clipped\"\n",
    "grid_search_clip.fit(X_train_clip, y_train_clip)\n",
    "\n",
    "print(\"Meilleur alpha :\", grid_search_clip.best_params_['ridge__alpha'])\n",
    "print(\"Meilleur score (r2, CV) :\", grid_search_clip.best_score_)\n",
    "\n",
    "# Prédiction sur le test set\n",
    "y_pred_clip = grid_search_clip.predict(X_test_clip)\n",
    "mae_clip = mean_absolute_error(y_test_clip, y_pred_clip)\n",
    "rmse_clip = mean_squared_error(y_test_clip, y_pred_clip)\n",
    "r2_clip = r2_score(y_test_clip, y_pred_clip)\n",
    "\n",
    "print(f\"Test MAE : {mae_clip:.2f}\")\n",
    "print(f\"Test RMSE : {rmse_clip:.2f}\")\n",
    "print(f\"Test R² : {r2_clip:.3f}\")"
   ]
  },
  {
   "cell_type": "code",
   "execution_count": null,
   "id": "546d6657",
   "metadata": {},
   "outputs": [],
   "source": []
  },
  {
   "cell_type": "code",
   "execution_count": null,
   "id": "32da7d79",
   "metadata": {},
   "outputs": [],
   "source": []
  }
 ],
 "metadata": {
  "kernelspec": {
   "display_name": "Python 3",
   "language": "python",
   "name": "python3"
  },
  "language_info": {
   "codemirror_mode": {
    "name": "ipython",
    "version": 3
   },
   "file_extension": ".py",
   "mimetype": "text/x-python",
   "name": "python",
   "nbconvert_exporter": "python",
   "pygments_lexer": "ipython3",
   "version": "3.9.6"
  }
 },
 "nbformat": 4,
 "nbformat_minor": 5
}
