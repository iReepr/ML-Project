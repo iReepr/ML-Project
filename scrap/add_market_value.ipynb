{
 "cells": [
  {
   "cell_type": "code",
   "execution_count": null,
   "id": "3d0cfcd9",
   "metadata": {},
   "outputs": [],
   "source": [
    "import importlib\n",
    "import pandas as pd\n",
    "import utils_tf\n",
    "import scrap_tf\n",
    "import time\n",
    "from tqdm import tqdm\n",
    "tqdm.pandas()  # active la barre de progression pour .progress_apply()"
   ]
  },
  {
   "cell_type": "code",
   "execution_count": 2,
   "id": "d178d833",
   "metadata": {},
   "outputs": [],
   "source": [
    "data = pd.read_csv('players_data-2024_2025.csv')"
   ]
  },
  {
   "cell_type": "code",
   "execution_count": 3,
   "id": "fc0508fc",
   "metadata": {},
   "outputs": [
    {
     "data": {
      "text/plain": [
       "2854"
      ]
     },
     "execution_count": 3,
     "metadata": {},
     "output_type": "execute_result"
    }
   ],
   "source": [
    "len(data)"
   ]
  },
  {
   "cell_type": "code",
   "execution_count": 4,
   "id": "93a19858",
   "metadata": {},
   "outputs": [
    {
     "data": {
      "text/html": [
       "<div>\n",
       "<style scoped>\n",
       "    .dataframe tbody tr th:only-of-type {\n",
       "        vertical-align: middle;\n",
       "    }\n",
       "\n",
       "    .dataframe tbody tr th {\n",
       "        vertical-align: top;\n",
       "    }\n",
       "\n",
       "    .dataframe thead th {\n",
       "        text-align: right;\n",
       "    }\n",
       "</style>\n",
       "<table border=\"1\" class=\"dataframe\">\n",
       "  <thead>\n",
       "    <tr style=\"text-align: right;\">\n",
       "      <th></th>\n",
       "      <th>Rk</th>\n",
       "      <th>Player</th>\n",
       "      <th>Nation</th>\n",
       "      <th>Pos</th>\n",
       "      <th>Squad</th>\n",
       "      <th>Comp</th>\n",
       "      <th>Age</th>\n",
       "      <th>Born</th>\n",
       "      <th>MP</th>\n",
       "      <th>Starts</th>\n",
       "      <th>...</th>\n",
       "      <th>Att (GK)</th>\n",
       "      <th>Thr</th>\n",
       "      <th>Launch%</th>\n",
       "      <th>AvgLen</th>\n",
       "      <th>Opp</th>\n",
       "      <th>Stp</th>\n",
       "      <th>Stp%</th>\n",
       "      <th>#OPA</th>\n",
       "      <th>#OPA/90</th>\n",
       "      <th>AvgDist</th>\n",
       "    </tr>\n",
       "  </thead>\n",
       "  <tbody>\n",
       "    <tr>\n",
       "      <th>1691</th>\n",
       "      <td>1692</td>\n",
       "      <td>Kylian Mbappé</td>\n",
       "      <td>fr FRA</td>\n",
       "      <td>FW</td>\n",
       "      <td>Real Madrid</td>\n",
       "      <td>es La Liga</td>\n",
       "      <td>25.0</td>\n",
       "      <td>1998.0</td>\n",
       "      <td>34</td>\n",
       "      <td>34</td>\n",
       "      <td>...</td>\n",
       "      <td>NaN</td>\n",
       "      <td>NaN</td>\n",
       "      <td>NaN</td>\n",
       "      <td>NaN</td>\n",
       "      <td>NaN</td>\n",
       "      <td>NaN</td>\n",
       "      <td>NaN</td>\n",
       "      <td>NaN</td>\n",
       "      <td>NaN</td>\n",
       "      <td>NaN</td>\n",
       "    </tr>\n",
       "  </tbody>\n",
       "</table>\n",
       "<p>1 rows × 267 columns</p>\n",
       "</div>"
      ],
      "text/plain": [
       "        Rk         Player  Nation Pos        Squad        Comp   Age    Born  \\\n",
       "1691  1692  Kylian Mbappé  fr FRA  FW  Real Madrid  es La Liga  25.0  1998.0   \n",
       "\n",
       "      MP  Starts  ...  Att (GK)  Thr  Launch%  AvgLen  Opp  Stp  Stp%  #OPA  \\\n",
       "1691  34      34  ...       NaN  NaN      NaN     NaN  NaN  NaN   NaN   NaN   \n",
       "\n",
       "      #OPA/90  AvgDist  \n",
       "1691      NaN      NaN  \n",
       "\n",
       "[1 rows x 267 columns]"
      ]
     },
     "execution_count": 4,
     "metadata": {},
     "output_type": "execute_result"
    }
   ],
   "source": [
    "data[data[\"Player\"] == \"Kylian Mbappé\"]"
   ]
  },
  {
   "cell_type": "code",
   "execution_count": 5,
   "id": "7131b85b",
   "metadata": {},
   "outputs": [
    {
     "name": "stdout",
     "output_type": "stream",
     "text": [
      "Number of duplicate entries in 'Player': 152\n"
     ]
    }
   ],
   "source": [
    "duplicate_count = data[\"Player\"].duplicated().sum()\n",
    "print(f\"Number of duplicate entries in 'Player': {duplicate_count}\")"
   ]
  },
  {
   "cell_type": "code",
   "execution_count": 6,
   "id": "f215799c",
   "metadata": {},
   "outputs": [],
   "source": [
    "data = data.drop_duplicates(subset=[\"Player\"])"
   ]
  },
  {
   "cell_type": "code",
   "execution_count": 7,
   "id": "992ebbbf",
   "metadata": {},
   "outputs": [],
   "source": [
    "example = data.iloc[0]"
   ]
  },
  {
   "cell_type": "code",
   "execution_count": 8,
   "id": "6027acfc",
   "metadata": {},
   "outputs": [
    {
     "data": {
      "text/plain": [
       "Rk                   1\n",
       "Player      Max Aarons\n",
       "Nation         eng ENG\n",
       "Pos                 DF\n",
       "Squad      Bournemouth\n",
       "              ...     \n",
       "Stp                NaN\n",
       "Stp%               NaN\n",
       "#OPA               NaN\n",
       "#OPA/90            NaN\n",
       "AvgDist            NaN\n",
       "Name: 0, Length: 267, dtype: object"
      ]
     },
     "execution_count": 8,
     "metadata": {},
     "output_type": "execute_result"
    }
   ],
   "source": [
    "example"
   ]
  },
  {
   "cell_type": "code",
   "execution_count": null,
   "id": "20a480ee",
   "metadata": {},
   "outputs": [],
   "source": [
    "# clubs = pd.DataFrame(columns=[\"id\", \"name\"])\n",
    "clubs = pd.read_csv(\"clubs.csv\")"
   ]
  },
  {
   "cell_type": "code",
   "execution_count": 10,
   "id": "55e9b59d",
   "metadata": {},
   "outputs": [],
   "source": [
    "# name = example[\"Player\"]\n",
    "# nation = example[\"Nation\"].strip()[1]\n",
    "# club = example[\"Squad\"]\n",
    "# if clubs[clubs[\"name\"] == club].empty:\n",
    "#     club_search = utils.search_club(club)\n",
    "#     if club_search:\n",
    "#         club_id = club_search[\"id\"]\n",
    "#     clubs = pd.concat([clubs, pd.DataFrame([{\"id\": club_id, \"name\": club}])], ignore_index=True)    # add club to clubs dataframe\n",
    "# else:\n",
    "#     club_id = clubs[clubs[\"name\"] == club][\"id\"].values[0]\n",
    "\n",
    "# status, player_data, marketValueHistory = utils.search_player(name, nationality=nation, club=club_id)\n",
    "# if \"error\" not in player_data :\n",
    "#     if len(marketValueHistory) > 0 :\n",
    "#         current_club = player_data[\"club\"][\"id\"]\n",
    "#         last_club_value = marketValueHistory[-1][\"clubId\"]\n",
    "#         value_updated = current_club == last_club_value\n",
    "#         example[\"value_updated\"] = value_updated\n",
    "#     else :\n",
    "#         example[\"value_updated\"] = True  # No market value history, assume value is updated\n",
    "#     example[\"market_value\"] = marketValueHistory[-1][\"marketValue\"]\n",
    "#     example[\"last_evaluation\"] = marketValueHistory[-1][\"date\"]\n",
    "#     url = utils.build_player_url(player_data[\"id\"], player_data[\"name\"])\n",
    "#     example[\"end_contract\"] = scrap.extract_end_contract(url)\n",
    "    "
   ]
  },
  {
   "cell_type": "code",
   "execution_count": null,
   "id": "1a1bc273",
   "metadata": {},
   "outputs": [],
   "source": [
    "def get_info(row):\n",
    "    name = row[\"Player\"]\n",
    "    nation = row[\"Nation\"].split()[1] if not pd.isna(row[\"Nation\"]) else None\n",
    "    club = row[\"Squad\"]\n",
    "    \n",
    "    if clubs[clubs[\"name\"] == club].empty:\n",
    "        club_search = utils.search_club(club)\n",
    "        if club_search:\n",
    "            club_id = club_search[\"id\"]\n",
    "            clubs.loc[len(clubs)] = [club_id, club]\n",
    "        else:\n",
    "            club_id = None\n",
    "    else:\n",
    "        club_id = clubs[clubs[\"name\"] == club][\"id\"].values[0]\n",
    "\n",
    "    status, player_data, marketValueHistory = utils.search_player(name, nation, club_id)\n",
    "\n",
    "    if \"error\" not in player_data:\n",
    "        row[\"id\"] = player_data[\"id\"]\n",
    "        if len(marketValueHistory) > 0:\n",
    "            current_club = player_data[\"club\"][\"id\"]\n",
    "            last_club_value = marketValueHistory[-1][\"clubId\"]\n",
    "            value_updated = current_club == last_club_value\n",
    "            if \"marketValue\" in marketValueHistory[-1]:\n",
    "                row[\"market_value\"] = marketValueHistory[-1][\"marketValue\"]\n",
    "                row[\"last_evaluation\"] = marketValueHistory[-1][\"date\"]\n",
    "        else:\n",
    "            value_updated = True\n",
    "        row[\"value_updated\"] = value_updated\n",
    "        url = utils.build_player_url(player_data[\"id\"], player_data[\"name\"])\n",
    "        time.sleep(3)\n",
    "        row[\"end_contract\"] = scrap.extract_end_contract(url)\n",
    "        print(url)\n",
    "        print(row[\"market_value\"])\n",
    "        print(row[\"end_contract\"])\n",
    "        row[\"success\"] = True\n",
    "    else:\n",
    "        row[\"success\"] = False\n",
    "    \n",
    "    return row\n",
    "\n"
   ]
  },
  {
   "cell_type": "code",
   "execution_count": 14,
   "id": "cc5268ed",
   "metadata": {},
   "outputs": [
    {
     "name": "stderr",
     "output_type": "stream",
     "text": [
      "100%|██████████| 2702/2702 [8:38:32<00:00, 11.51s/it]   \n"
     ]
    }
   ],
   "source": [
    "data = data.progress_apply(get_info, axis=1)"
   ]
  },
  {
   "cell_type": "code",
   "execution_count": 15,
   "id": "d6c86a7c",
   "metadata": {},
   "outputs": [
    {
     "data": {
      "text/html": [
       "<div>\n",
       "<style scoped>\n",
       "    .dataframe tbody tr th:only-of-type {\n",
       "        vertical-align: middle;\n",
       "    }\n",
       "\n",
       "    .dataframe tbody tr th {\n",
       "        vertical-align: top;\n",
       "    }\n",
       "\n",
       "    .dataframe thead th {\n",
       "        text-align: right;\n",
       "    }\n",
       "</style>\n",
       "<table border=\"1\" class=\"dataframe\">\n",
       "  <thead>\n",
       "    <tr style=\"text-align: right;\">\n",
       "      <th></th>\n",
       "      <th>id</th>\n",
       "      <th>name</th>\n",
       "    </tr>\n",
       "  </thead>\n",
       "  <tbody>\n",
       "    <tr>\n",
       "      <th>0</th>\n",
       "      <td>989</td>\n",
       "      <td>Bournemouth</td>\n",
       "    </tr>\n",
       "    <tr>\n",
       "      <th>1</th>\n",
       "      <td>1049</td>\n",
       "      <td>Valencia</td>\n",
       "    </tr>\n",
       "    <tr>\n",
       "      <th>2</th>\n",
       "      <td>410</td>\n",
       "      <td>Udinese</td>\n",
       "    </tr>\n",
       "    <tr>\n",
       "      <th>3</th>\n",
       "      <td>244</td>\n",
       "      <td>Marseille</td>\n",
       "    </tr>\n",
       "    <tr>\n",
       "      <th>4</th>\n",
       "      <td>618</td>\n",
       "      <td>Saint-Étienne</td>\n",
       "    </tr>\n",
       "    <tr>\n",
       "      <th>...</th>\n",
       "      <td>...</td>\n",
       "      <td>...</td>\n",
       "    </tr>\n",
       "    <tr>\n",
       "      <th>88</th>\n",
       "      <td>677</td>\n",
       "      <td>Ipswich Town</td>\n",
       "    </tr>\n",
       "    <tr>\n",
       "      <th>89</th>\n",
       "      <td>6195</td>\n",
       "      <td>Napoli</td>\n",
       "    </tr>\n",
       "    <tr>\n",
       "      <th>90</th>\n",
       "      <td>11</td>\n",
       "      <td>Arsenal</td>\n",
       "    </tr>\n",
       "    <tr>\n",
       "      <th>91</th>\n",
       "      <td>18</td>\n",
       "      <td>Gladbach</td>\n",
       "    </tr>\n",
       "    <tr>\n",
       "      <th>92</th>\n",
       "      <td>398</td>\n",
       "      <td>Lazio</td>\n",
       "    </tr>\n",
       "  </tbody>\n",
       "</table>\n",
       "<p>93 rows × 2 columns</p>\n",
       "</div>"
      ],
      "text/plain": [
       "      id           name\n",
       "0    989    Bournemouth\n",
       "1   1049       Valencia\n",
       "2    410        Udinese\n",
       "3    244      Marseille\n",
       "4    618  Saint-Étienne\n",
       "..   ...            ...\n",
       "88   677   Ipswich Town\n",
       "89  6195         Napoli\n",
       "90    11        Arsenal\n",
       "91    18       Gladbach\n",
       "92   398          Lazio\n",
       "\n",
       "[93 rows x 2 columns]"
      ]
     },
     "execution_count": 15,
     "metadata": {},
     "output_type": "execute_result"
    }
   ],
   "source": [
    "clubs"
   ]
  },
  {
   "cell_type": "code",
   "execution_count": 17,
   "id": "af250a08",
   "metadata": {},
   "outputs": [],
   "source": [
    "# save clubs to csv\n",
    "clubs.to_csv(\"clubs.csv\", index=False)\n",
    "# save data to csv\n",
    "data.to_csv(\"player_data_updated.csv\", index=False)"
   ]
  },
  {
   "cell_type": "code",
   "execution_count": 32,
   "id": "79c27b61",
   "metadata": {},
   "outputs": [
    {
     "data": {
      "text/plain": [
       "1691   NaT\n",
       "Name: end_contract, dtype: datetime64[ns]"
      ]
     },
     "execution_count": 32,
     "metadata": {},
     "output_type": "execute_result"
    }
   ],
   "source": [
    "data[data[\"Player\"] == \"Kylian Mbappé\"].end_contract\n"
   ]
  },
  {
   "cell_type": "code",
   "execution_count": 36,
   "id": "f29c13c5",
   "metadata": {},
   "outputs": [
    {
     "data": {
      "text/plain": [
       "2421"
      ]
     },
     "execution_count": 36,
     "metadata": {},
     "output_type": "execute_result"
    }
   ],
   "source": [
    "len(data[data[\"end_contract\"].isna()])"
   ]
  },
  {
   "cell_type": "code",
   "execution_count": 84,
   "id": "4e3ba695",
   "metadata": {},
   "outputs": [],
   "source": [
    "def get_end_contract(row):\n",
    "    if pd.isna(row[\"end_contract\"]) and not pd.isna(row[\"id\"]) and not pd.isna(row[\"Player\"]):\n",
    "        url = utils.build_player_url(row[\"id\"], row[\"Player\"])\n",
    "        r = scrap.extract_end_contract(url)\n",
    "        if r is None :\n",
    "            time.sleep(5)\n",
    "            r = scrap.extract_end_contract(url)\n",
    "        row[\"end_contract\"] = r\n",
    "    return row"
   ]
  },
  {
   "cell_type": "code",
   "execution_count": 85,
   "id": "6ddda06c",
   "metadata": {},
   "outputs": [
    {
     "name": "stderr",
     "output_type": "stream",
     "text": [
      "100%|██████████| 2702/2702 [12:16:21<00:00, 16.35s/it]  \n"
     ]
    }
   ],
   "source": [
    "data = data.progress_apply(get_end_contract, axis=1)"
   ]
  },
  {
   "cell_type": "code",
   "execution_count": 68,
   "id": "195630cc",
   "metadata": {},
   "outputs": [],
   "source": [
    "data_mbappé = data[data[\"Player\"] == \"Kylian Mbappé\"]"
   ]
  },
  {
   "cell_type": "code",
   "execution_count": 69,
   "id": "945f4221",
   "metadata": {},
   "outputs": [
    {
     "name": "stderr",
     "output_type": "stream",
     "text": [
      "100%|██████████| 1/1 [00:03<00:00,  3.81s/it]\n"
     ]
    },
    {
     "data": {
      "text/plain": [
       "1691   2029-06-30\n",
       "Name: end_contract, dtype: datetime64[ns]"
      ]
     },
     "execution_count": 69,
     "metadata": {},
     "output_type": "execute_result"
    }
   ],
   "source": [
    "data_mbappé = data_mbappé.progress_apply(get_end_contract, axis=1)\n",
    "data_mbappé.end_contract"
   ]
  },
  {
   "cell_type": "code",
   "execution_count": 88,
   "id": "5b7c456a",
   "metadata": {},
   "outputs": [],
   "source": [
    "# save data to csv\n",
    "data.to_csv(\"player_data_updated.csv\", index=False)"
   ]
  },
  {
   "cell_type": "code",
   "execution_count": 86,
   "id": "5382e094",
   "metadata": {},
   "outputs": [
    {
     "name": "stdout",
     "output_type": "stream",
     "text": [
      "674\n",
      "2245\n",
      "2702\n"
     ]
    }
   ],
   "source": [
    "print(len(data[data[\"end_contract\"].notna()]))\n",
    "print(len(data[data[\"market_value\"].notna()]))\n",
    "print(len(data))"
   ]
  },
  {
   "cell_type": "code",
   "execution_count": 79,
   "id": "25fa430c",
   "metadata": {},
   "outputs": [
    {
     "name": "stdout",
     "output_type": "stream",
     "text": [
      "1691    170000000.0\n",
      "Name: market_value, dtype: float64\n",
      "1691   NaT\n",
      "Name: end_contract, dtype: datetime64[ns]\n",
      "1691    342229\n",
      "Name: id, dtype: object\n"
     ]
    }
   ],
   "source": [
    "print(data[data[\"Player\"] == \"Kylian Mbappé\"].market_value)\n",
    "print(data[data[\"Player\"] == \"Kylian Mbappé\"].end_contract)\n",
    "print(data[data[\"Player\"] == \"Kylian Mbappé\"].id)\n"
   ]
  }
 ],
 "metadata": {
  "kernelspec": {
   "display_name": "Python 3",
   "language": "python",
   "name": "python3"
  },
  "language_info": {
   "codemirror_mode": {
    "name": "ipython",
    "version": 3
   },
   "file_extension": ".py",
   "mimetype": "text/x-python",
   "name": "python",
   "nbconvert_exporter": "python",
   "pygments_lexer": "ipython3",
   "version": "3.9.1"
  }
 },
 "nbformat": 4,
 "nbformat_minor": 5
}
