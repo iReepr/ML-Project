{
 "cells": [
  {
   "cell_type": "markdown",
   "id": "e9c8cc7d",
   "metadata": {},
   "source": [
    "# Exercice 3"
   ]
  },
  {
   "cell_type": "markdown",
   "id": "480b112e",
   "metadata": {},
   "source": [
    "## Question 1 (M)\n",
    "\n",
    "Compare the value in Proposition 1 to the Bayes risk. Which value is smaller? Interpret this result and discuss it as a function of \\(n\\) and \\(d\\).\n",
    "\n",
    "---\n",
    "\n",
    "\n",
    "\\begin{equation*}\n",
    "E \\left[ R_X (\\hat\\theta) \\right] = \\frac{n-d}{n}\\sigma^2\n",
    "\\end{equation*}\n",
    "\n",
    "\n",
    "\n",
    "Tandis que le risque de Bayes est de la forme:  $\\frac{d}{n} \\sigma^2$\n",
    "\n",
    "Le risque de Bayes est donc toujours plus petit ou égal à la Proposition 1\n",
    "\n",
    "Quand:\n",
    "- $d \\ll n$, le risque est faible et il y a moins de risque d'overfitting\n",
    "- $d \\approx n$, on risque de coller au bruit, et on fit exactement le jeu de données d'entraînement lorsque d = n et $X^TX$ est inversible, ce qui donne une mauvaise généralisation\n",
    "- $d > n$, il y a trop de paramètres et les solutions sont multiples, on a alors besoin de régularisation\n",
    "\n"
   ]
  },
  {
   "cell_type": "markdown",
   "id": "04fc2870",
   "metadata": {},
   "source": [
    "## Question 2 (M)\n",
    "Show that: \n",
    "\n",
    "\\begin{equation*}\n",
    "E[R_n(\\hat\\theta)] = E_\\epsilon[\\frac{1}{n}||(I_n-X(X^TX)^{-1}X^T)\\epsilon\\|^2]\n",
    "\\end{equation*}\n",
    "\n",
    "where $E_\\epsilon$ means that the expected value is over $\\epsilon$.\n",
    "\n",
    "---"
   ]
  },
  {
   "cell_type": "markdown",
   "id": "507adb49",
   "metadata": {},
   "source": [
    "D'après (4)\n",
    "\\begin{align*}\n",
    "R_n(\\hat\\theta) = \\frac{1}{n}||y-X\\hat\\theta\\|^2\n",
    "\\end{align*}\n",
    "\n",
    "donc:\n",
    "\\begin{align*}\n",
    "E[R_n(\\hat\\theta)] &= E[\\frac{1}{n}||y-X\\hat\\theta\\|^2] \n",
    "\\\\\n",
    "&=E[\\frac{1}{n}||y-X(X^TX)^{-1}X^Ty\\|^2] \\text{ en utilisant (5)}\n",
    "\\\\ \n",
    "&=E[\\frac{1}{n}||(I_n-X(X^TX)^{-1}X^T)y\\|^2]\n",
    "\\\\\n",
    "&=E[\\frac{1}{n}||(I_n-X(X^TX)^{-1}X^T)(X\\theta^*+\\epsilon)\\|^2] \\text{ d'après (6)}\n",
    "\\\\\n",
    "&=E[\\frac{1}{n}||(I_n-X(X^TX)^{-1}X^T)X\\theta^*+(I_n-X(X^TX)^{-1}X^T)\\epsilon\\|^2]\n",
    "\\\\\n",
    "&=E[\\frac{1}{n}||X\\theta^*-X(X^TX)^{-1}(X^TX)\\theta^*+(I_n-X(X^TX)^{-1}X^T)\\epsilon\\|^2]\n",
    "\\\\\n",
    "&=E[\\frac{1}{n}||X\\theta^*-X\\theta^*+(I_n-X(X^TX)^{-1}X^T)\\epsilon\\|^2]\n",
    "\\\\ \n",
    "\\end{align*}\n",
    "\n",
    "\\begin{equation*}\n",
    "\\boxed{\n",
    "E[R_n(\\hat\\theta)] = E_\\epsilon[\\frac{1}{n}||(I_n-X(X^TX)^{-1}X^T)\\epsilon\\|^2]\n",
    "}\n",
    "\\end{equation*}"
   ]
  },
  {
   "cell_type": "markdown",
   "id": "759783b7",
   "metadata": {},
   "source": [
    "## Question 3 (M)\n",
    "\n",
    "Let $A \\in \\mathbb{R^{n,n}}$. Show that\n",
    "$\\sum_{(i,j) \\in [1,n]^2}A_{ij}^2 = tr(A^TA)$\n",
    "\n",
    "---"
   ]
  },
  {
   "cell_type": "markdown",
   "id": "cdb4879a",
   "metadata": {
    "vscode": {
     "languageId": "tex"
    }
   },
   "source": [
    "\\begin{align*}\n",
    "tr(A^T A) &= \\sum_{i=1}^n (A^T A)_{ii} \\\\\n",
    "&= \\sum_{i=1}^n \\sum_{j=1}^n A_{ij}^T A_{ji} \\\\\n",
    "&= \\sum_{i=1}^n \\sum_{j=1}^n A_{ij}^2\n",
    "\\end{align*}\n",
    "\n",
    "\\begin{equation*}\n",
    "\\boxed{\n",
    "\\sum_{(i,j) \\in [1,n]^2}A_{ij}^2 = tr(A^TA)\n",
    "}\n",
    "\\end{equation*}"
   ]
  },
  {
   "cell_type": "markdown",
   "id": "1a4f37e1",
   "metadata": {},
   "source": [
    "## Question 4 (M)\n",
    "\n",
    "Let $A \\in \\mathbb{R^{n,n}}$. Show that\n",
    "$E_{\\epsilon}\\left[\\frac{1}{n}\\|A\\epsilon\\|^2\\right]=\\frac{\\sigma^2}{n}tr(A^TA)$\n",
    "\n",
    "---"
   ]
  },
  {
   "cell_type": "markdown",
   "id": "b8b3726a",
   "metadata": {
    "vscode": {
     "languageId": "tex"
    }
   },
   "source": [
    "\\begin{align*}\n",
    "\\frac{1}{n} \\|A \\epsilon\\|^2 &= \\frac{1}{n} \\sum_{i=1}^n \\left( \\sum_{j=1}^n A_{ij} \\epsilon_j \\right)^2\n",
    "\\\\\n",
    "\\frac{1}{n} \\|A \\epsilon\\|^2 &= \\frac{1}{n} \\sum_{i=1}^n \\sum_{j=1}^n \\sum_{k=1}^n A_{ij} A_{ik} \\epsilon_j \\epsilon_k\n",
    "\\end{align*}\n",
    "\n",
    "Or comme les $\\epsilon_i$ sont indépendants et centrés alors,\n",
    "\n",
    "Si $j \\neq k$, $Cov(\\epsilon_j,\\epsilon_k) = E[\\epsilon_j \\epsilon_k] = 0$\n",
    "\n",
    "Si $j = k$, $E[\\epsilon_j^2] = Var(\\epsilon_j) = \\sigma^2$ d'après la formule de Koenig-Huygens\n",
    "\n",
    "D'où\n",
    "\n",
    "\\begin{align*}\n",
    "E_\\epsilon\\left[\\frac{1}{n} \\|A \\epsilon\\|^2 \\right] &= \\frac{1}{n} \\sum_{i=1}^n \\sum_{j=1}^n A_{ij}^2 \\sigma^2\n",
    "\\end{align*}\n",
    "\n",
    "Or :\n",
    "\n",
    "\\begin{align*}\n",
    "\\sum_{i=1}^n \\sum_{j=1}^n A_{ij}^2 = tr(A^T A) \\text{ d'après la question précédente}\n",
    "\\end{align*}\n",
    "\n",
    "\n",
    "\\begin{equation*}\n",
    "\\boxed{\n",
    "E_\\epsilon\\left[\\frac{1}{n} \\|A \\epsilon\\|^2 \\right] = \\frac{\\sigma^2}{n} tr(A^T A)\n",
    "}\n",
    "\\end{equation*}\n"
   ]
  },
  {
   "cell_type": "markdown",
   "id": "bb2e7d28",
   "metadata": {},
   "source": [
    "## Question 5 (M)\n",
    "\n",
    "We note \n",
    "$A = I_n - X(X^TX)^{-1}X^T$\n",
    "\n",
    "Show that $A^TA=A$\n",
    "\n",
    "---"
   ]
  },
  {
   "cell_type": "markdown",
   "id": "a674011b",
   "metadata": {},
   "source": [
    "\\begin{align*}\n",
    "A^T = (I_n - X(X^TX)^{-1}X^T)^T = I_n - (X^T)^T((X^TX)^{-1})^TX^T = I_n - X(X^TX)^{-1}X^T\n",
    "\\end{align*}\n",
    "donc\n",
    "\n",
    "\\begin{align*}\n",
    "A^TA &= A^2\n",
    "\\\\\n",
    "&= (I_n - X (X^T X)^{-1} X^T)^2\n",
    "\\\\\n",
    "&= I_n - 2 X (X^T X)^{-1} X^T + X (X^T X)^{-1} X^T X (X^T X)^{-1} X^T\n",
    "\\\\\n",
    "&=I_n - 2 X (X^T X)^{-1} X^T + X (X^T X)^{-1} X^T\n",
    "\\\\\n",
    "&=I_n - X (X^T X)^{-1} X^T\n",
    "\\end{align*}\n",
    "\n",
    "donc\n",
    "\\begin{equation*}\n",
    "\\boxed{\n",
    "    A^TA = A\n",
    "}\n",
    "\\end{equation*}"
   ]
  },
  {
   "cell_type": "markdown",
   "id": "77f4813d",
   "metadata": {},
   "source": [
    "## Question 6 (M)\n",
    "\n",
    "Conclude\n",
    "\n",
    "---"
   ]
  },
  {
   "cell_type": "markdown",
   "id": "9c9c65f2",
   "metadata": {},
   "source": [
    "\\begin{align*}\n",
    "E_\\epsilon\\left[\\frac{1}{n} \\|A \\epsilon\\|^2 \\right] &= \\frac{\\sigma^2}{n} tr(A^T A)\n",
    "\\\\\n",
    "&= \\frac{\\sigma^2}{n} tr(A)\n",
    "\\\\\n",
    "&= \\frac{\\sigma^2}{n}tr(I_n - X(X^TX)^{-1}X^T)\n",
    "\\\\\n",
    "&= \\frac{\\sigma^2}{n}(tr(I_n) - tr(X(X^TX)^{-1}X^T))\n",
    "\\end{align*}\n",
    "Par invariance cyclique de la trace, on a :\n",
    "\\begin{align*}\n",
    "E_\\epsilon\\left[\\frac{1}{n} \\|A \\epsilon\\|^2 \\right] &= \\frac{\\sigma^2}{n}(tr(I_n) - tr((X^TX)^{-1}X^TX))\n",
    "\\\\\n",
    "&= \\frac{\\sigma^2}{n}(tr(I_n) - tr(I_d))\n",
    "\\\\\n",
    "\\end{align*}\n",
    "\n",
    "\\begin{equation*}\n",
    "\\boxed{\n",
    "E_\\epsilon\\left[\\frac{1}{n} \\|A \\epsilon\\|^2 \\right] = \\frac{\\sigma^2}{n}(n-d)\n",
    "}\n",
    "\\end{equation*}"
   ]
  },
  {
   "cell_type": "markdown",
   "id": "5984b9a6",
   "metadata": {},
   "source": [
    "## Question 7 (M)\n",
    "\n",
    "Still in the same setting, what is the expected value of $\\frac{||y-X\\hat\\theta||^2}{n-d}$?\n",
    "\n",
    "---"
   ]
  },
  {
   "cell_type": "markdown",
   "id": "3557345d",
   "metadata": {},
   "source": [
    "\\begin{align*}\n",
    "y-X\\hat\\theta &= X\\theta^* + \\epsilon - X\\hat\\theta\n",
    "\\\\\n",
    "&= \\epsilon - X(\\hat\\theta - \\theta^*)\n",
    "\\end{align*}\n",
    "D'après (5): \n",
    "\\begin{align*}\n",
    "\\hat\\theta &= (X^TX)^{-1}X^Ty\n",
    "\\\\\n",
    "&= (X^TX)^{-1}X^T(X\\theta^* + \\epsilon)\n",
    "\\\\\n",
    "&= (X^TX)^{-1}X^TX\\theta^* + (X^TX)^{-1}X^T\\epsilon\n",
    "\\\\\n",
    "&= \\theta^* + (X^TX)^{-1}X^T\\epsilon\n",
    "\\end{align*}\n",
    "\n",
    "donc $\\hat\\theta - \\theta^* = (X^TX)^{-1}X^T\\epsilon$\n",
    "D'où:\n",
    "\\begin{align*}\n",
    "y-X\\hat\\theta &= \\epsilon - X(X^TX)^{-1}X^T\\epsilon\n",
    "\\end{align*}\n",
    "\n",
    "Posons $A = I_n - X(X^TX)^{-1}X^T$,\n",
    "\\begin{align*}\n",
    "y-X\\hat\\theta &= A\\epsilon\n",
    "\\end{align*}\n",
    "\n",
    "Or d'après la question précédente, \n",
    "\\begin{align*}\n",
    "E\\left[\\|A \\epsilon\\|^2 \\right] = \\sigma^2(n-d)\n",
    "\\end{align*}\n",
    "\n",
    "Donc\n",
    "\\begin{equation*}\n",
    "\\boxed{\n",
    "E\\left[\\frac{||y-X\\hat\\theta||^2}{n-d}\\right] = \\sigma^2\n",
    "}\n",
    "\\end{equation*}\n"
   ]
  },
  {
   "cell_type": "markdown",
   "id": "48d16d61",
   "metadata": {},
   "source": [
    "## Question 8 (C)\n",
    "\n",
    "Produce a numerical simulation that estimates $\\sigma^2$ thanks to the result of step 6. Check that the result is consistent with the theoretical value you have chosen.\n",
    "\n",
    "---"
   ]
  },
  {
   "cell_type": "code",
   "execution_count": 29,
   "id": "ec38bdc3",
   "metadata": {},
   "outputs": [
    {
     "name": "stdout",
     "output_type": "stream",
     "text": [
      "σ² (true) | σ² (estimated)\n",
      "----------|---------------\n",
      "   0.2500 |    0.2547\n",
      "   1.0000 |    1.0023\n",
      "   4.0000 |    4.0003\n",
      "  25.0000 |   25.2007\n",
      " 100.0000 |  100.3735\n"
     ]
    }
   ],
   "source": [
    "import numpy as np\n",
    "\n",
    "n = 10000\n",
    "d = 5\n",
    "\n",
    "theta_star = np.random.randn(d)\n",
    "X = np.random.randn(n, d)\n",
    "\n",
    "sigma_values = [0.5, 1.0, 2.0, 5.0, 10.0]\n",
    "\n",
    "print(\"σ² (true) | σ² (estimated)\")\n",
    "print(\"----------|---------------\")\n",
    "\n",
    "for sigma in sigma_values:\n",
    "    epsilon = np.random.normal(0, sigma, size=n)\n",
    "    y = X @ theta_star + epsilon\n",
    "\n",
    "    # Estimateur OLS\n",
    "    theta_hat = np.linalg.inv(X.T @ X) @ X.T @ y\n",
    "\n",
    "    # Estimation de σ²\n",
    "    sigma2_hat = np.sum((y - X @ theta_hat)**2) / (n - d)\n",
    "\n",
    "    print(f\"{sigma**2:9.4f} | {sigma2_hat:9.4f}\")\n"
   ]
  }
 ],
 "metadata": {
  "kernelspec": {
   "display_name": ".env_ia",
   "language": "python",
   "name": "python3"
  },
  "language_info": {
   "codemirror_mode": {
    "name": "ipython",
    "version": 3
   },
   "file_extension": ".py",
   "mimetype": "text/x-python",
   "name": "python",
   "nbconvert_exporter": "python",
   "pygments_lexer": "ipython3",
   "version": "3.12.9"
  }
 },
 "nbformat": 4,
 "nbformat_minor": 5
}
