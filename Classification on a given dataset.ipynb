{
 "cells": [
  {
   "cell_type": "markdown",
   "metadata": {},
   "source": [
    "# 5 classification on a given dataset\n",
    "\n",
    "## (\"C\" exercise)\n",
    "\n",
    "Same instructions as in 4, except that this time a classification has to be performed and the data and the dataset is stored in data/classification/.\n",
    "\n",
    "Your objective should be to obtain a mean accuracy superior to 0.85 on the test set (same remark about the test set).\n",
    "\n",
    "**Indication : a solution, with the correct hyperparameters, exists in scikit among the following scikit classes :**\n",
    "- linear_model.LogisticRegression\n",
    "- svm.SVC\n",
    "- neighbors.KNeighborsClassifier\n",
    "- neural_network.MLPClassifier\n",
    "- ensemble.AdaBoostClassifier.\n",
    "\n",
    "---\n"
   ]
  },
  {
   "cell_type": "code",
   "execution_count": 22,
   "metadata": {},
   "outputs": [
    {
     "name": "stdout",
     "output_type": "stream",
     "text": [
      "(2000, 30) (2000,)\n"
     ]
    }
   ],
   "source": [
    "from sklearn.model_selection import GridSearchCV\n",
    "from sklearn.pipeline import make_pipeline\n",
    "from sklearn.svm import SVC\n",
    "from sklearn.metrics import accuracy_score\n",
    "from sklearn.ensemble import AdaBoostClassifier\n",
    "from sklearn.svm import SVC\n",
    "\n",
    "import numpy as np\n",
    "\n",
    "root = 'data/classification/'\n",
    "\n",
    "# Load .npy files\n",
    "X_train = np.load(root + 'X_train.npy')\n",
    "X_test = np.load(root + 'X_test.npy')\n",
    "y_train = np.load(root + 'y_train.npy')\n",
    "y_test = np.load(root + 'y_test.npy')\n",
    "\n",
    "print(X_train.shape, y_train.shape)\n"
   ]
  },
  {
   "cell_type": "markdown",
   "metadata": {},
   "source": [
    "Le dataset contient moins de 100 000 échantillons et ne concerne pas des données textuelles.\n",
    "Conformément aux recommandations de Scikit-learn pour ce type de configuration, j’ai choisi d’évaluer un modèle K-Nearest Neighbors.\n",
    "Une recherche d’hyperparamètres sera effectuée à l’aide d’une validation croisée à 5 folds afin d’améliorer la performance du modèle."
   ]
  },
  {
   "cell_type": "markdown",
   "metadata": {},
   "source": [
    "# K-Nearest Neighbors"
   ]
  },
  {
   "cell_type": "code",
   "execution_count": 24,
   "metadata": {},
   "outputs": [
    {
     "name": "stdout",
     "output_type": "stream",
     "text": [
      "Fitting 5 folds for each of 32 candidates, totalling 160 fits\n",
      "Best parameters (KNN): {'n_neighbors': 21, 'p': 2, 'weights': 'uniform'}\n",
      "Best CV accuracy (KNN): 0.7835\n",
      "Test accuracy (KNN): 0.7865\n"
     ]
    }
   ],
   "source": [
    "from sklearn.neighbors import KNeighborsClassifier\n",
    "\n",
    "param_grid_knn = {\n",
    "    'n_neighbors': [3, 5, 7, 9, 11, 15, 21, 31],\n",
    "    'weights': ['uniform', 'distance'],\n",
    "    'p': [1, 2]  # 1: Manhattan, 2: Euclidean\n",
    "}\n",
    "\n",
    "knn = KNeighborsClassifier()\n",
    "\n",
    "grid_knn = GridSearchCV(\n",
    "    estimator=knn,\n",
    "    param_grid=param_grid_knn,\n",
    "    scoring='accuracy',\n",
    "    cv=5,\n",
    "    n_jobs=-1,\n",
    "    verbose=1\n",
    ")\n",
    "grid_knn.fit(X_train, y_train)\n",
    "\n",
    "print(\"Best parameters (KNN):\", grid_knn.best_params_)\n",
    "print(\"Best CV accuracy (KNN):\", grid_knn.best_score_)\n",
    "\n",
    "y_pred_knn = grid_knn.predict(X_test)\n",
    "print(\"Test accuracy (KNN):\", accuracy_score(y_test, y_pred_knn))"
   ]
  },
  {
   "cell_type": "markdown",
   "metadata": {},
   "source": [
    "Les résultats ne sont pas convaincants, nous allons donc tester d'utiliser un SVC et un AdaBoost"
   ]
  },
  {
   "cell_type": "markdown",
   "metadata": {},
   "source": [
    "# AdaBoost\n"
   ]
  },
  {
   "cell_type": "code",
   "execution_count": 25,
   "metadata": {},
   "outputs": [
    {
     "name": "stdout",
     "output_type": "stream",
     "text": [
      "Fitting 5 folds for each of 36 candidates, totalling 180 fits\n",
      "Best parameters (AdaBoost): {'learning_rate': 0.2, 'n_estimators': 2000}\n",
      "Best CV accuracy (AdaBoost): 0.7255\n",
      "Test accuracy (AdaBoost): 0.746\n"
     ]
    }
   ],
   "source": [
    "\n",
    "param_grid_ada = {\n",
    "    'n_estimators': [50, 100, 200, 500, 1000, 2000],\n",
    "    'learning_rate': [0.01, 0.05, 0.1, 0.2, 0.5, 1.0]\n",
    "}\n",
    "\n",
    "ada = AdaBoostClassifier(random_state=42)\n",
    "\n",
    "grid_ada = GridSearchCV(\n",
    "    estimator=ada,\n",
    "    param_grid=param_grid_ada,\n",
    "    scoring='accuracy',\n",
    "    cv=5,\n",
    "    n_jobs=-1,\n",
    "    verbose=1\n",
    ")\n",
    "grid_ada.fit(X_train, y_train)\n",
    "\n",
    "print(\"Best parameters (AdaBoost):\", grid_ada.best_params_)\n",
    "print(\"Best CV accuracy (AdaBoost):\", grid_ada.best_score_)\n",
    "\n",
    "y_pred_ada = grid_ada.predict(X_test)\n",
    "print(\"Test accuracy (AdaBoost):\", accuracy_score(y_test, y_pred_ada))"
   ]
  },
  {
   "cell_type": "markdown",
   "metadata": {},
   "source": [
    "# SVC"
   ]
  },
  {
   "cell_type": "code",
   "execution_count": 16,
   "metadata": {},
   "outputs": [
    {
     "name": "stdout",
     "output_type": "stream",
     "text": [
      "Fitting 5 folds for each of 15 candidates, totalling 75 fits\n",
      "Best parameters: {'C': 5}\n",
      "Best CV accuracy: 0.773\n",
      "Test accuracy: 0.903\n"
     ]
    }
   ],
   "source": [
    "\n",
    "param_grid = {\n",
    "        'C': [\n",
    "        0.0001, 0.001, 0.01, 0.05, 0.1, \n",
    "        0.5, 1, 5, 10, 20, 50, 100, 200, 500, 1000\n",
    "    ]\n",
    "}\n",
    "\n",
    "svc =    SVC(kernel=\"poly\", probability=True,random_state=4)\n",
    "\n",
    "\n",
    "grid = GridSearchCV(\n",
    "    estimator=svc,\n",
    "    param_grid=param_grid,\n",
    "    scoring='accuracy',\n",
    "    cv=5,\n",
    "    n_jobs=-1,\n",
    "    verbose=1\n",
    ")\n",
    "grid.fit(X_train, y_train)\n",
    "\n",
    "print(\"Best parameters:\", grid.best_params_)\n",
    "print(\"Best CV accuracy:\", grid.best_score_)\n",
    "\n",
    "y_pred_grid = grid.predict(X_test)\n",
    "print(\"Test accuracy:\", accuracy_score(y_test, y_pred_grid))"
   ]
  },
  {
   "cell_type": "markdown",
   "metadata": {},
   "source": [
    "Le meilleur modèle est donc le SVC"
   ]
  }
 ],
 "metadata": {
  "kernelspec": {
   "display_name": "Python 3",
   "language": "python",
   "name": "python3"
  },
  "language_info": {
   "codemirror_mode": {
    "name": "ipython",
    "version": 3
   },
   "file_extension": ".py",
   "mimetype": "text/x-python",
   "name": "python",
   "nbconvert_exporter": "python",
   "pygments_lexer": "ipython3",
   "version": "3.9.6"
  }
 },
 "nbformat": 4,
 "nbformat_minor": 2
}
