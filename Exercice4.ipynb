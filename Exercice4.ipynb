{
 "cells": [
  {
   "cell_type": "markdown",
   "metadata": {},
   "source": [
    "# 4 Regression on a given dataset\n",
    "\n",
    "## (\"C\" exercise)\n",
    "\n",
    "Perform a regression on the dataset stored in data/regression/.\n",
    "\n",
    "You are free to choose the regression methods, but you must compare at least two\n",
    "methods. You can do more than 2 but this is not mandatory for this exercise.\n",
    "Discuss the choice of the optimization procedures, solvers, hyperparameters, cross-validation, etc. The Bayes estimator for this dataset and the squared loss reaches\n",
    "a R2 score of approximately 0.92, for at least 1 of the 2 estimators (1 estimator is\n",
    "enough).\n",
    "\n",
    "Your objective is be to obtain a R2 score superior than 0.88 on the test set, that\n",
    "must not be used during training. Remember that training is the complete model optimisation procedure, including model selection and hyperparameters testing, not\n",
    "only when you call a .fit() method ! This is the topic that we discussed during the\n",
    "practical sessions on train / validation / test and cross-validation. However, since\n",
    "you have the test set, all you can do is \"pretend\" not to use it during training, since\n",
    "you can always compute the score test several times without putting it in your solution.\n",
    "\n",
    "---"
   ]
  },
  {
   "cell_type": "markdown",
   "metadata": {},
   "source": [
    "# Import"
   ]
  },
  {
   "cell_type": "code",
   "execution_count": 22,
   "metadata": {},
   "outputs": [
    {
     "name": "stdout",
     "output_type": "stream",
     "text": [
      "(200, 200) (200, 1)\n"
     ]
    }
   ],
   "source": [
    "import numpy as np\n",
    "from sklearn.model_selection import GridSearchCV\n",
    "\n",
    "root = 'data/regression/'\n",
    "\n",
    "# Load .npy files\n",
    "X_train = np.load(root + 'X_train.npy')\n",
    "X_test = np.load(root + 'X_test.npy')\n",
    "y_train = np.load(root + 'y_train.npy')\n",
    "y_test = np.load(root + 'y_test.npy')\n",
    "\n",
    "print(X_train.shape, y_train.shape)\n"
   ]
  },
  {
   "cell_type": "markdown",
   "metadata": {},
   "source": [
    "Avant d’entraîner un modèle, j’ai réalisé une analyse simple pour mesurer l’impact de chaque variable sur la valeur à prédire. Le but est de voir si seules quelques variables ont vraiment une influence importante, ce qui pourrait orienter le choix vers un modèle adapté aux données peu denses.\n"
   ]
  },
  {
   "cell_type": "code",
   "execution_count": 28,
   "metadata": {},
   "outputs": [
    {
     "name": "stdout",
     "output_type": "stream",
     "text": [
      "26 features significatives sur 200\n"
     ]
    }
   ],
   "source": [
    "from sklearn.feature_selection import f_regression\n",
    "\n",
    "f_vals, p_vals = f_regression(X_train, y_train.ravel())\n",
    "\n",
    "significant = p_vals < 0.05\n",
    "print(f\"{significant.sum()} features significatives sur {len(p_vals)}\")\n"
   ]
  },
  {
   "cell_type": "code",
   "execution_count": 24,
   "metadata": {},
   "outputs": [
    {
     "data": {
      "text/plain": [
       "(200, 200)"
      ]
     },
     "execution_count": 24,
     "metadata": {},
     "output_type": "execute_result"
    }
   ],
   "source": [
    "X_train.shape"
   ]
  },
  {
   "cell_type": "markdown",
   "metadata": {},
   "source": [
    "À partir des résultats du test f_regression, 26 features sur 200 présentent une relation significative avec la cible. Combiné au fait que le jeu de données contient moins de 100 000 observations, ces éléments justifient l’essai de modèles comme Lasso et ElasticNet.\n",
    "Je procède donc à une validation croisée avec 5 folds en utilisant un GridSearchCV sur Lasso et ElasticNet, conformément aux recommandations de Scikit-learn pour ce type de configuration."
   ]
  },
  {
   "cell_type": "markdown",
   "metadata": {},
   "source": [
    "# Lasso"
   ]
  },
  {
   "cell_type": "code",
   "execution_count": 25,
   "metadata": {},
   "outputs": [
    {
     "name": "stdout",
     "output_type": "stream",
     "text": [
      "Best parameters (Lasso): {'alpha': 0.001}\n",
      "Best train R2 score (Lasso): 0.8764599666803479\n",
      "Best test R2 score (Lasso): 0.8975856443355343\n"
     ]
    }
   ],
   "source": [
    "from sklearn.linear_model import Lasso\n",
    "\n",
    "\n",
    "param_grid_lasso = {\n",
    "    'alpha': [1e-5, 1e-3, 1e-1, 1, 10, 100, 1e3, 1e5]\n",
    "}\n",
    "\n",
    "lasso = Lasso(max_iter=10000)\n",
    "grid_search_lasso = GridSearchCV(lasso, param_grid_lasso, cv=5, scoring='r2', n_jobs=-1)\n",
    "grid_search_lasso.fit(X_train, y_train)\n",
    "\n",
    "print(\"Best parameters (Lasso):\", grid_search_lasso.best_params_)\n",
    "print(\"Best train R2 score (Lasso):\", grid_search_lasso.best_score_)\n",
    "print(\"Best test R2 score (Lasso):\", grid_search_lasso.score(X_test, y_test))"
   ]
  },
  {
   "cell_type": "markdown",
   "metadata": {},
   "source": [
    "# ElasticNet"
   ]
  },
  {
   "cell_type": "code",
   "execution_count": 27,
   "metadata": {},
   "outputs": [
    {
     "name": "stdout",
     "output_type": "stream",
     "text": [
      "Best parameters (ElasticNet): {'alpha': 0.001, 'l1_ratio': 0.9}\n",
      "Best train R2 score (ElasticNet): 0.8685014225855108\n",
      "Best test R2 score (ElasticNet): 0.8950918181512542\n"
     ]
    }
   ],
   "source": [
    "from sklearn.linear_model import ElasticNet\n",
    "\n",
    "param_grid_enet = {\n",
    "    'alpha': [1e-5, 1e-3, 1e-1, 1, 10, 100],\n",
    "    'l1_ratio': [0.1, 0.5, 0.7, 0.9]\n",
    "}\n",
    "\n",
    "enet = ElasticNet(max_iter=10000)\n",
    "grid_search_enet = GridSearchCV(enet, param_grid_enet, cv=5, scoring='r2', n_jobs=-1)\n",
    "grid_search_enet.fit(X_train, y_train)\n",
    "\n",
    "print(\"Best parameters (ElasticNet):\", grid_search_enet.best_params_)\n",
    "print(\"Best train R2 score (ElasticNet):\", grid_search_enet.best_score_)\n",
    "print(\"Best test R2 score (ElasticNet):\", grid_search_enet.score(X_test, y_test))"
   ]
  },
  {
   "cell_type": "markdown",
   "metadata": {},
   "source": [
    "Ces 2 modèles ont bien un score R2 supérieur a 0.88."
   ]
  }
 ],
 "metadata": {
  "kernelspec": {
   "display_name": "Python 3",
   "language": "python",
   "name": "python3"
  },
  "language_info": {
   "codemirror_mode": {
    "name": "ipython",
    "version": 3
   },
   "file_extension": ".py",
   "mimetype": "text/x-python",
   "name": "python",
   "nbconvert_exporter": "python",
   "pygments_lexer": "ipython3",
   "version": "3.9.6"
  }
 },
 "nbformat": 4,
 "nbformat_minor": 2
}
